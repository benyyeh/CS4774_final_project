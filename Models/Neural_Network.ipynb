{
 "cells": [
  {
   "cell_type": "markdown",
   "metadata": {
    "id": "rVljo84ey3RI"
   },
   "source": [
    "#Neural Network\n",
    "This notebook contains our training of a neural network as an attempt to predict accident severity. Crash Severity can be broken into 5 categories:\n",
    "\n",
    "K. Fatal Injury\n",
    "\n",
    "A. Severe Injury\n",
    "\n",
    "B. Visible Injury\n",
    "\n",
    "C. Nonvisible Injury\n",
    "\n",
    "O. Property Damage Only"
   ]
  },
  {
   "cell_type": "code",
   "execution_count": 1,
   "metadata": {
    "colab": {
     "base_uri": "https://localhost:8080/"
    },
    "executionInfo": {
     "elapsed": 12042,
     "status": "ok",
     "timestamp": 1746538401227,
     "user": {
      "displayName": "Aiden Rocha",
      "userId": "03798662039225755281"
     },
     "user_tz": 240
    },
    "id": "j_st2Yb8y0sx",
    "outputId": "22c89de5-d405-4429-d850-31c106fb1aa3"
   },
   "outputs": [
    {
     "name": "stdout",
     "output_type": "stream",
     "text": [
      "Requirement already satisfied: tensorflow in /usr/local/lib/python3.11/dist-packages (2.18.0)\n",
      "Requirement already satisfied: absl-py>=1.0.0 in /usr/local/lib/python3.11/dist-packages (from tensorflow) (1.4.0)\n",
      "Requirement already satisfied: astunparse>=1.6.0 in /usr/local/lib/python3.11/dist-packages (from tensorflow) (1.6.3)\n",
      "Requirement already satisfied: flatbuffers>=24.3.25 in /usr/local/lib/python3.11/dist-packages (from tensorflow) (25.2.10)\n",
      "Requirement already satisfied: gast!=0.5.0,!=0.5.1,!=0.5.2,>=0.2.1 in /usr/local/lib/python3.11/dist-packages (from tensorflow) (0.6.0)\n",
      "Requirement already satisfied: google-pasta>=0.1.1 in /usr/local/lib/python3.11/dist-packages (from tensorflow) (0.2.0)\n",
      "Requirement already satisfied: libclang>=13.0.0 in /usr/local/lib/python3.11/dist-packages (from tensorflow) (18.1.1)\n",
      "Requirement already satisfied: opt-einsum>=2.3.2 in /usr/local/lib/python3.11/dist-packages (from tensorflow) (3.4.0)\n",
      "Requirement already satisfied: packaging in /usr/local/lib/python3.11/dist-packages (from tensorflow) (24.2)\n",
      "Requirement already satisfied: protobuf!=4.21.0,!=4.21.1,!=4.21.2,!=4.21.3,!=4.21.4,!=4.21.5,<6.0.0dev,>=3.20.3 in /usr/local/lib/python3.11/dist-packages (from tensorflow) (5.29.4)\n",
      "Requirement already satisfied: requests<3,>=2.21.0 in /usr/local/lib/python3.11/dist-packages (from tensorflow) (2.32.3)\n",
      "Requirement already satisfied: setuptools in /usr/local/lib/python3.11/dist-packages (from tensorflow) (75.2.0)\n",
      "Requirement already satisfied: six>=1.12.0 in /usr/local/lib/python3.11/dist-packages (from tensorflow) (1.17.0)\n",
      "Requirement already satisfied: termcolor>=1.1.0 in /usr/local/lib/python3.11/dist-packages (from tensorflow) (3.1.0)\n",
      "Requirement already satisfied: typing-extensions>=3.6.6 in /usr/local/lib/python3.11/dist-packages (from tensorflow) (4.13.2)\n",
      "Requirement already satisfied: wrapt>=1.11.0 in /usr/local/lib/python3.11/dist-packages (from tensorflow) (1.17.2)\n",
      "Requirement already satisfied: grpcio<2.0,>=1.24.3 in /usr/local/lib/python3.11/dist-packages (from tensorflow) (1.71.0)\n",
      "Requirement already satisfied: tensorboard<2.19,>=2.18 in /usr/local/lib/python3.11/dist-packages (from tensorflow) (2.18.0)\n",
      "Requirement already satisfied: keras>=3.5.0 in /usr/local/lib/python3.11/dist-packages (from tensorflow) (3.8.0)\n",
      "Requirement already satisfied: numpy<2.1.0,>=1.26.0 in /usr/local/lib/python3.11/dist-packages (from tensorflow) (2.0.2)\n",
      "Requirement already satisfied: h5py>=3.11.0 in /usr/local/lib/python3.11/dist-packages (from tensorflow) (3.13.0)\n",
      "Requirement already satisfied: ml-dtypes<0.5.0,>=0.4.0 in /usr/local/lib/python3.11/dist-packages (from tensorflow) (0.4.1)\n",
      "Requirement already satisfied: tensorflow-io-gcs-filesystem>=0.23.1 in /usr/local/lib/python3.11/dist-packages (from tensorflow) (0.37.1)\n",
      "Requirement already satisfied: wheel<1.0,>=0.23.0 in /usr/local/lib/python3.11/dist-packages (from astunparse>=1.6.0->tensorflow) (0.45.1)\n",
      "Requirement already satisfied: rich in /usr/local/lib/python3.11/dist-packages (from keras>=3.5.0->tensorflow) (13.9.4)\n",
      "Requirement already satisfied: namex in /usr/local/lib/python3.11/dist-packages (from keras>=3.5.0->tensorflow) (0.0.9)\n",
      "Requirement already satisfied: optree in /usr/local/lib/python3.11/dist-packages (from keras>=3.5.0->tensorflow) (0.15.0)\n",
      "Requirement already satisfied: charset-normalizer<4,>=2 in /usr/local/lib/python3.11/dist-packages (from requests<3,>=2.21.0->tensorflow) (3.4.1)\n",
      "Requirement already satisfied: idna<4,>=2.5 in /usr/local/lib/python3.11/dist-packages (from requests<3,>=2.21.0->tensorflow) (3.10)\n",
      "Requirement already satisfied: urllib3<3,>=1.21.1 in /usr/local/lib/python3.11/dist-packages (from requests<3,>=2.21.0->tensorflow) (2.4.0)\n",
      "Requirement already satisfied: certifi>=2017.4.17 in /usr/local/lib/python3.11/dist-packages (from requests<3,>=2.21.0->tensorflow) (2025.4.26)\n",
      "Requirement already satisfied: markdown>=2.6.8 in /usr/local/lib/python3.11/dist-packages (from tensorboard<2.19,>=2.18->tensorflow) (3.8)\n",
      "Requirement already satisfied: tensorboard-data-server<0.8.0,>=0.7.0 in /usr/local/lib/python3.11/dist-packages (from tensorboard<2.19,>=2.18->tensorflow) (0.7.2)\n",
      "Requirement already satisfied: werkzeug>=1.0.1 in /usr/local/lib/python3.11/dist-packages (from tensorboard<2.19,>=2.18->tensorflow) (3.1.3)\n",
      "Requirement already satisfied: MarkupSafe>=2.1.1 in /usr/local/lib/python3.11/dist-packages (from werkzeug>=1.0.1->tensorboard<2.19,>=2.18->tensorflow) (3.0.2)\n",
      "Requirement already satisfied: markdown-it-py>=2.2.0 in /usr/local/lib/python3.11/dist-packages (from rich->keras>=3.5.0->tensorflow) (3.0.0)\n",
      "Requirement already satisfied: pygments<3.0.0,>=2.13.0 in /usr/local/lib/python3.11/dist-packages (from rich->keras>=3.5.0->tensorflow) (2.19.1)\n",
      "Requirement already satisfied: mdurl~=0.1 in /usr/local/lib/python3.11/dist-packages (from markdown-it-py>=2.2.0->rich->keras>=3.5.0->tensorflow) (0.1.2)\n"
     ]
    }
   ],
   "source": [
    "!pip install tensorflow"
   ]
  },
  {
   "cell_type": "code",
   "execution_count": 30,
   "metadata": {
    "executionInfo": {
     "elapsed": 10,
     "status": "ok",
     "timestamp": 1746542192377,
     "user": {
      "displayName": "Aiden Rocha",
      "userId": "03798662039225755281"
     },
     "user_tz": 240
    },
    "id": "ttivu0ftySPM"
   },
   "outputs": [],
   "source": [
    "import pandas as pd\n",
    "import re\n",
    "import numpy as np\n",
    "\n",
    "from sklearn.model_selection import train_test_split\n",
    "from sklearn.preprocessing import LabelEncoder\n",
    "from sklearn.compose import ColumnTransformer\n",
    "from sklearn.pipeline import Pipeline\n",
    "from sklearn.impute import SimpleImputer\n",
    "from sklearn.preprocessing import StandardScaler, OneHotEncoder\n",
    "\n",
    "from imblearn.over_sampling import SMOTE\n",
    "from imblearn.pipeline import Pipeline as ImbPipeline\n",
    "\n",
    "from sklearn.metrics import classification_report, accuracy_score, roc_auc_score, confusion_matrix, f1_score, ConfusionMatrixDisplay\n",
    "\n",
    "import seaborn as sns\n",
    "import matplotlib.pyplot as plt\n",
    "\n",
    "from tensorflow import keras\n"
   ]
  },
  {
   "cell_type": "code",
   "execution_count": 3,
   "metadata": {
    "executionInfo": {
     "elapsed": 71955,
     "status": "ok",
     "timestamp": 1746539416298,
     "user": {
      "displayName": "Aiden Rocha",
      "userId": "03798662039225755281"
     },
     "user_tz": 240
    },
    "id": "Bj6p0t9zzSx8"
   },
   "outputs": [],
   "source": [
    "df = pd.read_csv(\"crash_data.csv\", low_memory=False)"
   ]
  },
  {
   "cell_type": "code",
   "execution_count": 4,
   "metadata": {
    "colab": {
     "base_uri": "https://localhost:8080/"
    },
    "executionInfo": {
     "elapsed": 44,
     "status": "ok",
     "timestamp": 1746539552304,
     "user": {
      "displayName": "Aiden Rocha",
      "userId": "03798662039225755281"
     },
     "user_tz": 240
    },
    "id": "nFYR1R0bzjyp",
    "outputId": "d9c3aa5a-b717-4aef-e602-9961fadb59cf"
   },
   "outputs": [
    {
     "data": {
      "text/plain": [
       "(1128862, 128)"
      ]
     },
     "execution_count": 4,
     "metadata": {},
     "output_type": "execute_result"
    }
   ],
   "source": [
    "df.shape"
   ]
  },
  {
   "cell_type": "code",
   "execution_count": 10,
   "metadata": {
    "executionInfo": {
     "elapsed": 471,
     "status": "ok",
     "timestamp": 1746539645135,
     "user": {
      "displayName": "Aiden Rocha",
      "userId": "03798662039225755281"
     },
     "user_tz": 240
    },
    "id": "EY6-DVGc3_1Z"
   },
   "outputs": [],
   "source": [
    "keep_cols = [\n",
    "    'Crash_Date','Crash_Military_Time','Intersection_Type','Area_Type',\n",
    "    'Roadway_Alignment','Light_Condition','Weather_Condition',\n",
    "    'Roadway_Surface_Condition','Roadway_Surface_Type',\n",
    "    'Traffic_Control_Type','Traffic_Control_Status','Collision_Type',\n",
    "    'Speed_Posted','Vehicle_Count','First_Harmful_Event','Crash_Severity'\n",
    "]\n",
    "df = df[keep_cols].copy()"
   ]
  },
  {
   "cell_type": "code",
   "execution_count": 12,
   "metadata": {
    "executionInfo": {
     "elapsed": 422,
     "status": "ok",
     "timestamp": 1746539707905,
     "user": {
      "displayName": "Aiden Rocha",
      "userId": "03798662039225755281"
     },
     "user_tz": 240
    },
    "id": "xNMSDZy_4Ca_"
   },
   "outputs": [],
   "source": [
    "df['Crash_Date'] = pd.to_datetime(df['Crash_Date'])\n",
    "df['day_of_week'] = df['Crash_Date'].dt.day_name()"
   ]
  },
  {
   "cell_type": "code",
   "execution_count": 13,
   "metadata": {
    "executionInfo": {
     "elapsed": 961,
     "status": "ok",
     "timestamp": 1746539733510,
     "user": {
      "displayName": "Aiden Rocha",
      "userId": "03798662039225755281"
     },
     "user_tz": 240
    },
    "id": "dPc6H1Z14VSC"
   },
   "outputs": [],
   "source": [
    "def extract_hour(t):\n",
    "    s = str(int(t)).zfill(4)\n",
    "    return int(s[:2])\n",
    "df['hour_of_day'] = df['Crash_Military_Time'].apply(extract_hour)\n",
    "\n",
    "bins = [0, 6, 12, 18, 24]\n",
    "labels = ['Night','Morning','Afternoon','Evening']\n",
    "df['time_of_day'] = pd.cut(df['hour_of_day'], bins=bins, labels=labels, right=False)"
   ]
  },
  {
   "cell_type": "code",
   "execution_count": 14,
   "metadata": {
    "executionInfo": {
     "elapsed": 2676,
     "status": "ok",
     "timestamp": 1746539748559,
     "user": {
      "displayName": "Aiden Rocha",
      "userId": "03798662039225755281"
     },
     "user_tz": 240
    },
    "id": "e_dWqxky4YkB"
   },
   "outputs": [],
   "source": [
    "def parse_max_speed(s):\n",
    "    if pd.isna(s):\n",
    "        return np.nan\n",
    "    nums = [int(x) for x in re.findall(r'\\d+', s)]\n",
    "    return max(nums) if nums else np.nan\n",
    "\n",
    "df['Speed_Posted_max'] = df['Speed_Posted'].apply(parse_max_speed)"
   ]
  },
  {
   "cell_type": "code",
   "execution_count": 15,
   "metadata": {
    "executionInfo": {
     "elapsed": 153,
     "status": "ok",
     "timestamp": 1746539758277,
     "user": {
      "displayName": "Aiden Rocha",
      "userId": "03798662039225755281"
     },
     "user_tz": 240
    },
    "id": "SbrcN4LW4bb7"
   },
   "outputs": [],
   "source": [
    "df = df.drop(columns=['Crash_Date','Crash_Military_Time','Speed_Posted','hour_of_day'])"
   ]
  },
  {
   "cell_type": "code",
   "execution_count": 16,
   "metadata": {
    "executionInfo": {
     "elapsed": 188,
     "status": "ok",
     "timestamp": 1746539765725,
     "user": {
      "displayName": "Aiden Rocha",
      "userId": "03798662039225755281"
     },
     "user_tz": 240
    },
    "id": "jYOtjhUEzlJn"
   },
   "outputs": [],
   "source": [
    "X = df.drop(columns=['Crash_Severity'])\n",
    "y = df['Crash_Severity']"
   ]
  },
  {
   "cell_type": "code",
   "execution_count": 17,
   "metadata": {
    "colab": {
     "base_uri": "https://localhost:8080/"
    },
    "executionInfo": {
     "elapsed": 152,
     "status": "ok",
     "timestamp": 1746539772078,
     "user": {
      "displayName": "Aiden Rocha",
      "userId": "03798662039225755281"
     },
     "user_tz": 240
    },
    "id": "TPSnuY6Dznk5",
    "outputId": "bc868379-bd81-4fdf-fe29-a0913bb37312"
   },
   "outputs": [
    {
     "name": "stdout",
     "output_type": "stream",
     "text": [
      "[4 4 1 ... 1 1 4]\n"
     ]
    }
   ],
   "source": [
    "le = LabelEncoder()\n",
    "y_enc = le.fit_transform(y)\n",
    "\n",
    "print(y_enc)"
   ]
  },
  {
   "cell_type": "code",
   "execution_count": 18,
   "metadata": {
    "executionInfo": {
     "elapsed": 1255,
     "status": "ok",
     "timestamp": 1746539781083,
     "user": {
      "displayName": "Aiden Rocha",
      "userId": "03798662039225755281"
     },
     "user_tz": 240
    },
    "id": "t65ATnZKzqpC"
   },
   "outputs": [],
   "source": [
    "X_train, X_test, y_train, y_test = train_test_split(\n",
    "    X, y_enc,\n",
    "    test_size=0.30,\n",
    "    stratify=y_enc,\n",
    "    random_state=42\n",
    ")"
   ]
  },
  {
   "cell_type": "code",
   "execution_count": 19,
   "metadata": {
    "executionInfo": {
     "elapsed": 4,
     "status": "ok",
     "timestamp": 1746539788368,
     "user": {
      "displayName": "Aiden Rocha",
      "userId": "03798662039225755281"
     },
     "user_tz": 240
    },
    "id": "K1frHRvUztbW"
   },
   "outputs": [],
   "source": [
    "numeric_feats = ['Vehicle_Count','Speed_Posted_max']\n",
    "numeric_pipe = Pipeline([\n",
    "    ('impute', SimpleImputer(strategy='median')),\n",
    "    ('scale', StandardScaler())\n",
    "])\n",
    "\n",
    "categorical_feats = [\n",
    "    'Intersection_Type','Area_Type','Roadway_Alignment',\n",
    "    'Light_Condition','Weather_Condition',\n",
    "    'Roadway_Surface_Condition','Roadway_Surface_Type',\n",
    "    'Traffic_Control_Type','Traffic_Control_Status',\n",
    "    'Collision_Type','First_Harmful_Event',\n",
    "    'day_of_week','time_of_day',\n",
    "]\n",
    "categorical_pipe = Pipeline([\n",
    "    ('impute', SimpleImputer(strategy='constant', fill_value='missing')),\n",
    "    ('onehot', OneHotEncoder(handle_unknown='ignore'))\n",
    "])\n",
    "\n",
    "preprocessor = ColumnTransformer([\n",
    "    ('num', numeric_pipe, numeric_feats),\n",
    "    ('cat', categorical_pipe, categorical_feats)\n",
    "])"
   ]
  },
  {
   "cell_type": "markdown",
   "metadata": {
    "id": "NcnKjujF0Eka"
   },
   "source": [
    "#Data Preparation\n",
    "\n"
   ]
  },
  {
   "cell_type": "code",
   "execution_count": 20,
   "metadata": {
    "executionInfo": {
     "elapsed": 7574,
     "status": "ok",
     "timestamp": 1746539798121,
     "user": {
      "displayName": "Aiden Rocha",
      "userId": "03798662039225755281"
     },
     "user_tz": 240
    },
    "id": "Z402r_WH0G41"
   },
   "outputs": [],
   "source": [
    "y_class_names = ['O', 'B', 'C', 'A', 'K']\n",
    "\n",
    "\n",
    "X_train_processed = preprocessor.fit_transform(X_train)\n",
    "X_test_processed = preprocessor.transform(X_test)\n",
    "y_train_processed = y_train\n",
    "y_test_processed = y_test\n",
    "\n",
    "X_valid = X_train_processed[:5000]\n",
    "new_X_train = X_train_processed[5000:]\n",
    "y_valid = y_train[:5000]\n",
    "new_y_train = y_train[5000:]\n",
    "\n"
   ]
  },
  {
   "cell_type": "markdown",
   "metadata": {
    "id": "sN8Ft1Ahz4fI"
   },
   "source": [
    "#Model Creation\n"
   ]
  },
  {
   "cell_type": "code",
   "execution_count": 21,
   "metadata": {
    "colab": {
     "base_uri": "https://localhost:8080/",
     "height": 312
    },
    "executionInfo": {
     "elapsed": 244,
     "status": "ok",
     "timestamp": 1746539801912,
     "user": {
      "displayName": "Aiden Rocha",
      "userId": "03798662039225755281"
     },
     "user_tz": 240
    },
    "id": "BVsZtQNHz_gI",
    "outputId": "2eac57c1-f35c-4c29-93b2-45ff4b843f70"
   },
   "outputs": [
    {
     "name": "stderr",
     "output_type": "stream",
     "text": [
      "/usr/local/lib/python3.11/dist-packages/keras/src/layers/reshaping/flatten.py:37: UserWarning: Do not pass an `input_shape`/`input_dim` argument to a layer. When using Sequential models, prefer using an `Input(shape)` object as the first layer in the model instead.\n",
      "  super().__init__(**kwargs)\n"
     ]
    },
    {
     "data": {
      "text/html": [
       "<pre style=\"white-space:pre;overflow-x:auto;line-height:normal;font-family:Menlo,'DejaVu Sans Mono',consolas,'Courier New',monospace\"><span style=\"font-weight: bold\">Model: \"sequential\"</span>\n",
       "</pre>\n"
      ],
      "text/plain": [
       "\u001b[1mModel: \"sequential\"\u001b[0m\n"
      ]
     },
     "metadata": {},
     "output_type": "display_data"
    },
    {
     "data": {
      "text/html": [
       "<pre style=\"white-space:pre;overflow-x:auto;line-height:normal;font-family:Menlo,'DejaVu Sans Mono',consolas,'Courier New',monospace\">┏━━━━━━━━━━━━━━━━━━━━━━━━━━━━━━━━━┳━━━━━━━━━━━━━━━━━━━━━━━━┳━━━━━━━━━━━━━━━┓\n",
       "┃<span style=\"font-weight: bold\"> Layer (type)                    </span>┃<span style=\"font-weight: bold\"> Output Shape           </span>┃<span style=\"font-weight: bold\">       Param # </span>┃\n",
       "┡━━━━━━━━━━━━━━━━━━━━━━━━━━━━━━━━━╇━━━━━━━━━━━━━━━━━━━━━━━━╇━━━━━━━━━━━━━━━┩\n",
       "│ flatten (<span style=\"color: #0087ff; text-decoration-color: #0087ff\">Flatten</span>)               │ (<span style=\"color: #00d7ff; text-decoration-color: #00d7ff\">None</span>, <span style=\"color: #00af00; text-decoration-color: #00af00\">148</span>)            │             <span style=\"color: #00af00; text-decoration-color: #00af00\">0</span> │\n",
       "├─────────────────────────────────┼────────────────────────┼───────────────┤\n",
       "│ dense (<span style=\"color: #0087ff; text-decoration-color: #0087ff\">Dense</span>)                   │ (<span style=\"color: #00d7ff; text-decoration-color: #00d7ff\">None</span>, <span style=\"color: #00af00; text-decoration-color: #00af00\">300</span>)            │        <span style=\"color: #00af00; text-decoration-color: #00af00\">44,700</span> │\n",
       "├─────────────────────────────────┼────────────────────────┼───────────────┤\n",
       "│ dense_1 (<span style=\"color: #0087ff; text-decoration-color: #0087ff\">Dense</span>)                 │ (<span style=\"color: #00d7ff; text-decoration-color: #00d7ff\">None</span>, <span style=\"color: #00af00; text-decoration-color: #00af00\">100</span>)            │        <span style=\"color: #00af00; text-decoration-color: #00af00\">30,100</span> │\n",
       "├─────────────────────────────────┼────────────────────────┼───────────────┤\n",
       "│ dense_2 (<span style=\"color: #0087ff; text-decoration-color: #0087ff\">Dense</span>)                 │ (<span style=\"color: #00d7ff; text-decoration-color: #00d7ff\">None</span>, <span style=\"color: #00af00; text-decoration-color: #00af00\">10</span>)             │         <span style=\"color: #00af00; text-decoration-color: #00af00\">1,010</span> │\n",
       "└─────────────────────────────────┴────────────────────────┴───────────────┘\n",
       "</pre>\n"
      ],
      "text/plain": [
       "┏━━━━━━━━━━━━━━━━━━━━━━━━━━━━━━━━━┳━━━━━━━━━━━━━━━━━━━━━━━━┳━━━━━━━━━━━━━━━┓\n",
       "┃\u001b[1m \u001b[0m\u001b[1mLayer (type)                   \u001b[0m\u001b[1m \u001b[0m┃\u001b[1m \u001b[0m\u001b[1mOutput Shape          \u001b[0m\u001b[1m \u001b[0m┃\u001b[1m \u001b[0m\u001b[1m      Param #\u001b[0m\u001b[1m \u001b[0m┃\n",
       "┡━━━━━━━━━━━━━━━━━━━━━━━━━━━━━━━━━╇━━━━━━━━━━━━━━━━━━━━━━━━╇━━━━━━━━━━━━━━━┩\n",
       "│ flatten (\u001b[38;5;33mFlatten\u001b[0m)               │ (\u001b[38;5;45mNone\u001b[0m, \u001b[38;5;34m148\u001b[0m)            │             \u001b[38;5;34m0\u001b[0m │\n",
       "├─────────────────────────────────┼────────────────────────┼───────────────┤\n",
       "│ dense (\u001b[38;5;33mDense\u001b[0m)                   │ (\u001b[38;5;45mNone\u001b[0m, \u001b[38;5;34m300\u001b[0m)            │        \u001b[38;5;34m44,700\u001b[0m │\n",
       "├─────────────────────────────────┼────────────────────────┼───────────────┤\n",
       "│ dense_1 (\u001b[38;5;33mDense\u001b[0m)                 │ (\u001b[38;5;45mNone\u001b[0m, \u001b[38;5;34m100\u001b[0m)            │        \u001b[38;5;34m30,100\u001b[0m │\n",
       "├─────────────────────────────────┼────────────────────────┼───────────────┤\n",
       "│ dense_2 (\u001b[38;5;33mDense\u001b[0m)                 │ (\u001b[38;5;45mNone\u001b[0m, \u001b[38;5;34m10\u001b[0m)             │         \u001b[38;5;34m1,010\u001b[0m │\n",
       "└─────────────────────────────────┴────────────────────────┴───────────────┘\n"
      ]
     },
     "metadata": {},
     "output_type": "display_data"
    },
    {
     "data": {
      "text/html": [
       "<pre style=\"white-space:pre;overflow-x:auto;line-height:normal;font-family:Menlo,'DejaVu Sans Mono',consolas,'Courier New',monospace\"><span style=\"font-weight: bold\"> Total params: </span><span style=\"color: #00af00; text-decoration-color: #00af00\">75,810</span> (296.13 KB)\n",
       "</pre>\n"
      ],
      "text/plain": [
       "\u001b[1m Total params: \u001b[0m\u001b[38;5;34m75,810\u001b[0m (296.13 KB)\n"
      ]
     },
     "metadata": {},
     "output_type": "display_data"
    },
    {
     "data": {
      "text/html": [
       "<pre style=\"white-space:pre;overflow-x:auto;line-height:normal;font-family:Menlo,'DejaVu Sans Mono',consolas,'Courier New',monospace\"><span style=\"font-weight: bold\"> Trainable params: </span><span style=\"color: #00af00; text-decoration-color: #00af00\">75,810</span> (296.13 KB)\n",
       "</pre>\n"
      ],
      "text/plain": [
       "\u001b[1m Trainable params: \u001b[0m\u001b[38;5;34m75,810\u001b[0m (296.13 KB)\n"
      ]
     },
     "metadata": {},
     "output_type": "display_data"
    },
    {
     "data": {
      "text/html": [
       "<pre style=\"white-space:pre;overflow-x:auto;line-height:normal;font-family:Menlo,'DejaVu Sans Mono',consolas,'Courier New',monospace\"><span style=\"font-weight: bold\"> Non-trainable params: </span><span style=\"color: #00af00; text-decoration-color: #00af00\">0</span> (0.00 B)\n",
       "</pre>\n"
      ],
      "text/plain": [
       "\u001b[1m Non-trainable params: \u001b[0m\u001b[38;5;34m0\u001b[0m (0.00 B)\n"
      ]
     },
     "metadata": {},
     "output_type": "display_data"
    }
   ],
   "source": [
    "model = keras.models.Sequential()\n",
    "model.add(keras.layers.Flatten(input_shape=[new_X_train.shape[1]]))\n",
    "model.add(keras.layers.Dense(300, activation=\"relu\"))\n",
    "model.add(keras.layers.Dense(100, activation=\"relu\"))\n",
    "model.add(keras.layers.Dense(10, activation=\"softmax\"))\n",
    "\n",
    "model.summary()"
   ]
  },
  {
   "cell_type": "code",
   "execution_count": 22,
   "metadata": {
    "executionInfo": {
     "elapsed": 11,
     "status": "ok",
     "timestamp": 1746539804569,
     "user": {
      "displayName": "Aiden Rocha",
      "userId": "03798662039225755281"
     },
     "user_tz": 240
    },
    "id": "5pA_GV0Y0PzU"
   },
   "outputs": [],
   "source": [
    "model.compile(loss=keras.losses.sparse_categorical_crossentropy,\n",
    "              optimizer=keras.optimizers.SGD(),\n",
    "              metrics=[keras.metrics.sparse_categorical_accuracy])"
   ]
  },
  {
   "cell_type": "markdown",
   "metadata": {
    "id": "TJL5qsCt0Qph"
   },
   "source": [
    "#Training"
   ]
  },
  {
   "cell_type": "code",
   "execution_count": 24,
   "metadata": {
    "colab": {
     "base_uri": "https://localhost:8080/"
    },
    "executionInfo": {
     "elapsed": 699000,
     "status": "ok",
     "timestamp": 1746542037256,
     "user": {
      "displayName": "Aiden Rocha",
      "userId": "03798662039225755281"
     },
     "user_tz": 240
    },
    "id": "-DBv2yxS0TPy",
    "outputId": "b11bb091-f6cc-458d-bce2-fc4d671eae0e"
   },
   "outputs": [
    {
     "name": "stdout",
     "output_type": "stream",
     "text": [
      "Epoch 1/30\n",
      "\u001b[1m12269/12269\u001b[0m \u001b[32m━━━━━━━━━━━━━━━━━━━━\u001b[0m\u001b[37m\u001b[0m \u001b[1m61s\u001b[0m 5ms/step - loss: 0.9096 - sparse_categorical_accuracy: 0.6775 - val_loss: 0.8847 - val_sparse_categorical_accuracy: 0.6832\n",
      "Epoch 2/30\n",
      "\u001b[1m12269/12269\u001b[0m \u001b[32m━━━━━━━━━━━━━━━━━━━━\u001b[0m\u001b[37m\u001b[0m \u001b[1m60s\u001b[0m 5ms/step - loss: 0.8953 - sparse_categorical_accuracy: 0.6803 - val_loss: 0.8824 - val_sparse_categorical_accuracy: 0.6824\n",
      "Epoch 3/30\n",
      "\u001b[1m12269/12269\u001b[0m \u001b[32m━━━━━━━━━━━━━━━━━━━━\u001b[0m\u001b[37m\u001b[0m \u001b[1m65s\u001b[0m 5ms/step - loss: 0.8908 - sparse_categorical_accuracy: 0.6815 - val_loss: 0.8792 - val_sparse_categorical_accuracy: 0.6834\n",
      "Epoch 4/30\n",
      "\u001b[1m12269/12269\u001b[0m \u001b[32m━━━━━━━━━━━━━━━━━━━━\u001b[0m\u001b[37m\u001b[0m \u001b[1m62s\u001b[0m 5ms/step - loss: 0.8906 - sparse_categorical_accuracy: 0.6813 - val_loss: 0.8804 - val_sparse_categorical_accuracy: 0.6852\n",
      "Epoch 5/30\n",
      "\u001b[1m12269/12269\u001b[0m \u001b[32m━━━━━━━━━━━━━━━━━━━━\u001b[0m\u001b[37m\u001b[0m \u001b[1m94s\u001b[0m 6ms/step - loss: 0.8886 - sparse_categorical_accuracy: 0.6821 - val_loss: 0.8788 - val_sparse_categorical_accuracy: 0.6842\n",
      "Epoch 6/30\n",
      "\u001b[1m12269/12269\u001b[0m \u001b[32m━━━━━━━━━━━━━━━━━━━━\u001b[0m\u001b[37m\u001b[0m \u001b[1m63s\u001b[0m 5ms/step - loss: 0.8867 - sparse_categorical_accuracy: 0.6822 - val_loss: 0.8767 - val_sparse_categorical_accuracy: 0.6842\n",
      "Epoch 7/30\n",
      "\u001b[1m12269/12269\u001b[0m \u001b[32m━━━━━━━━━━━━━━━━━━━━\u001b[0m\u001b[37m\u001b[0m \u001b[1m79s\u001b[0m 5ms/step - loss: 0.8852 - sparse_categorical_accuracy: 0.6827 - val_loss: 0.8755 - val_sparse_categorical_accuracy: 0.6840\n",
      "Epoch 8/30\n",
      "\u001b[1m12269/12269\u001b[0m \u001b[32m━━━━━━━━━━━━━━━━━━━━\u001b[0m\u001b[37m\u001b[0m \u001b[1m81s\u001b[0m 5ms/step - loss: 0.8859 - sparse_categorical_accuracy: 0.6823 - val_loss: 0.8757 - val_sparse_categorical_accuracy: 0.6856\n",
      "Epoch 9/30\n",
      "\u001b[1m12269/12269\u001b[0m \u001b[32m━━━━━━━━━━━━━━━━━━━━\u001b[0m\u001b[37m\u001b[0m \u001b[1m60s\u001b[0m 5ms/step - loss: 0.8862 - sparse_categorical_accuracy: 0.6823 - val_loss: 0.8760 - val_sparse_categorical_accuracy: 0.6840\n",
      "Epoch 10/30\n",
      "\u001b[1m12269/12269\u001b[0m \u001b[32m━━━━━━━━━━━━━━━━━━━━\u001b[0m\u001b[37m\u001b[0m \u001b[1m86s\u001b[0m 5ms/step - loss: 0.8858 - sparse_categorical_accuracy: 0.6824 - val_loss: 0.8741 - val_sparse_categorical_accuracy: 0.6840\n",
      "Epoch 11/30\n",
      "\u001b[1m12269/12269\u001b[0m \u001b[32m━━━━━━━━━━━━━━━━━━━━\u001b[0m\u001b[37m\u001b[0m \u001b[1m84s\u001b[0m 5ms/step - loss: 0.8851 - sparse_categorical_accuracy: 0.6825 - val_loss: 0.8770 - val_sparse_categorical_accuracy: 0.6856\n",
      "Epoch 12/30\n",
      "\u001b[1m12269/12269\u001b[0m \u001b[32m━━━━━━━━━━━━━━━━━━━━\u001b[0m\u001b[37m\u001b[0m \u001b[1m78s\u001b[0m 5ms/step - loss: 0.8836 - sparse_categorical_accuracy: 0.6833 - val_loss: 0.8745 - val_sparse_categorical_accuracy: 0.6854\n",
      "Epoch 13/30\n",
      "\u001b[1m12269/12269\u001b[0m \u001b[32m━━━━━━━━━━━━━━━━━━━━\u001b[0m\u001b[37m\u001b[0m \u001b[1m83s\u001b[0m 5ms/step - loss: 0.8849 - sparse_categorical_accuracy: 0.6819 - val_loss: 0.8740 - val_sparse_categorical_accuracy: 0.6846\n",
      "Epoch 14/30\n",
      "\u001b[1m12269/12269\u001b[0m \u001b[32m━━━━━━━━━━━━━━━━━━━━\u001b[0m\u001b[37m\u001b[0m \u001b[1m81s\u001b[0m 5ms/step - loss: 0.8838 - sparse_categorical_accuracy: 0.6823 - val_loss: 0.8771 - val_sparse_categorical_accuracy: 0.6838\n",
      "Epoch 15/30\n",
      "\u001b[1m12269/12269\u001b[0m \u001b[32m━━━━━━━━━━━━━━━━━━━━\u001b[0m\u001b[37m\u001b[0m \u001b[1m62s\u001b[0m 5ms/step - loss: 0.8837 - sparse_categorical_accuracy: 0.6824 - val_loss: 0.8745 - val_sparse_categorical_accuracy: 0.6846\n",
      "Epoch 16/30\n",
      "\u001b[1m12269/12269\u001b[0m \u001b[32m━━━━━━━━━━━━━━━━━━━━\u001b[0m\u001b[37m\u001b[0m \u001b[1m64s\u001b[0m 5ms/step - loss: 0.8835 - sparse_categorical_accuracy: 0.6825 - val_loss: 0.8750 - val_sparse_categorical_accuracy: 0.6854\n",
      "Epoch 17/30\n",
      "\u001b[1m12269/12269\u001b[0m \u001b[32m━━━━━━━━━━━━━━━━━━━━\u001b[0m\u001b[37m\u001b[0m \u001b[1m83s\u001b[0m 5ms/step - loss: 0.8832 - sparse_categorical_accuracy: 0.6826 - val_loss: 0.8749 - val_sparse_categorical_accuracy: 0.6838\n",
      "Epoch 18/30\n",
      "\u001b[1m12269/12269\u001b[0m \u001b[32m━━━━━━━━━━━━━━━━━━━━\u001b[0m\u001b[37m\u001b[0m \u001b[1m66s\u001b[0m 5ms/step - loss: 0.8818 - sparse_categorical_accuracy: 0.6829 - val_loss: 0.8729 - val_sparse_categorical_accuracy: 0.6848\n",
      "Epoch 19/30\n",
      "\u001b[1m12269/12269\u001b[0m \u001b[32m━━━━━━━━━━━━━━━━━━━━\u001b[0m\u001b[37m\u001b[0m \u001b[1m67s\u001b[0m 5ms/step - loss: 0.8815 - sparse_categorical_accuracy: 0.6831 - val_loss: 0.8731 - val_sparse_categorical_accuracy: 0.6844\n",
      "Epoch 20/30\n",
      "\u001b[1m12269/12269\u001b[0m \u001b[32m━━━━━━━━━━━━━━━━━━━━\u001b[0m\u001b[37m\u001b[0m \u001b[1m71s\u001b[0m 6ms/step - loss: 0.8827 - sparse_categorical_accuracy: 0.6824 - val_loss: 0.8743 - val_sparse_categorical_accuracy: 0.6844\n",
      "Epoch 21/30\n",
      "\u001b[1m12269/12269\u001b[0m \u001b[32m━━━━━━━━━━━━━━━━━━━━\u001b[0m\u001b[37m\u001b[0m \u001b[1m67s\u001b[0m 5ms/step - loss: 0.8803 - sparse_categorical_accuracy: 0.6834 - val_loss: 0.8751 - val_sparse_categorical_accuracy: 0.6852\n",
      "Epoch 22/30\n",
      "\u001b[1m12269/12269\u001b[0m \u001b[32m━━━━━━━━━━━━━━━━━━━━\u001b[0m\u001b[37m\u001b[0m \u001b[1m76s\u001b[0m 5ms/step - loss: 0.8812 - sparse_categorical_accuracy: 0.6829 - val_loss: 0.8758 - val_sparse_categorical_accuracy: 0.6836\n",
      "Epoch 23/30\n",
      "\u001b[1m12269/12269\u001b[0m \u001b[32m━━━━━━━━━━━━━━━━━━━━\u001b[0m\u001b[37m\u001b[0m \u001b[1m81s\u001b[0m 5ms/step - loss: 0.8826 - sparse_categorical_accuracy: 0.6821 - val_loss: 0.8733 - val_sparse_categorical_accuracy: 0.6866\n",
      "Epoch 24/30\n",
      "\u001b[1m12269/12269\u001b[0m \u001b[32m━━━━━━━━━━━━━━━━━━━━\u001b[0m\u001b[37m\u001b[0m \u001b[1m60s\u001b[0m 5ms/step - loss: 0.8806 - sparse_categorical_accuracy: 0.6826 - val_loss: 0.8753 - val_sparse_categorical_accuracy: 0.6840\n",
      "Epoch 25/30\n",
      "\u001b[1m12269/12269\u001b[0m \u001b[32m━━━━━━━━━━━━━━━━━━━━\u001b[0m\u001b[37m\u001b[0m \u001b[1m83s\u001b[0m 5ms/step - loss: 0.8822 - sparse_categorical_accuracy: 0.6821 - val_loss: 0.8740 - val_sparse_categorical_accuracy: 0.6854\n",
      "Epoch 26/30\n",
      "\u001b[1m12269/12269\u001b[0m \u001b[32m━━━━━━━━━━━━━━━━━━━━\u001b[0m\u001b[37m\u001b[0m \u001b[1m61s\u001b[0m 5ms/step - loss: 0.8801 - sparse_categorical_accuracy: 0.6833 - val_loss: 0.8728 - val_sparse_categorical_accuracy: 0.6844\n",
      "Epoch 27/30\n",
      "\u001b[1m12269/12269\u001b[0m \u001b[32m━━━━━━━━━━━━━━━━━━━━\u001b[0m\u001b[37m\u001b[0m \u001b[1m81s\u001b[0m 5ms/step - loss: 0.8782 - sparse_categorical_accuracy: 0.6839 - val_loss: 0.8714 - val_sparse_categorical_accuracy: 0.6866\n",
      "Epoch 28/30\n",
      "\u001b[1m12269/12269\u001b[0m \u001b[32m━━━━━━━━━━━━━━━━━━━━\u001b[0m\u001b[37m\u001b[0m \u001b[1m81s\u001b[0m 5ms/step - loss: 0.8796 - sparse_categorical_accuracy: 0.6831 - val_loss: 0.8724 - val_sparse_categorical_accuracy: 0.6860\n",
      "Epoch 29/30\n",
      "\u001b[1m12269/12269\u001b[0m \u001b[32m━━━━━━━━━━━━━━━━━━━━\u001b[0m\u001b[37m\u001b[0m \u001b[1m83s\u001b[0m 5ms/step - loss: 0.8810 - sparse_categorical_accuracy: 0.6819 - val_loss: 0.8722 - val_sparse_categorical_accuracy: 0.6856\n",
      "Epoch 30/30\n",
      "\u001b[1m12269/12269\u001b[0m \u001b[32m━━━━━━━━━━━━━━━━━━━━\u001b[0m\u001b[37m\u001b[0m \u001b[1m84s\u001b[0m 5ms/step - loss: 0.8795 - sparse_categorical_accuracy: 0.6830 - val_loss: 0.8751 - val_sparse_categorical_accuracy: 0.6858\n"
     ]
    }
   ],
   "source": [
    "history = model.fit(new_X_train, new_y_train, batch_size=64, epochs=30,\n",
    "                    validation_data=(X_valid, y_valid))"
   ]
  },
  {
   "cell_type": "markdown",
   "metadata": {
    "id": "ex9fZtzv0a--"
   },
   "source": [
    "#Results"
   ]
  },
  {
   "cell_type": "code",
   "execution_count": 26,
   "metadata": {
    "colab": {
     "base_uri": "https://localhost:8080/",
     "height": 451
    },
    "executionInfo": {
     "elapsed": 2160,
     "status": "ok",
     "timestamp": 1746542057262,
     "user": {
      "displayName": "Aiden Rocha",
      "userId": "03798662039225755281"
     },
     "user_tz": 240
    },
    "id": "mv8DYGmz0dLT",
    "outputId": "7b1ac58a-eb8c-4e0b-8c8f-d9a5538a9c1f"
   },
   "outputs": [
    {
     "data": {
      "image/png": "[encoded data removed]",
      "text/plain": [
       "<Figure size 800x500 with 1 Axes>"
      ]
     },
     "metadata": {},
     "output_type": "display_data"
    }
   ],
   "source": [
    "pd.DataFrame(history.history).plot(figsize=(8, 5))\n",
    "plt.grid(True)\n",
    "plt.gca().set_ylim(0, 1)\n",
    "plt.show()"
   ]
  },
  {
   "cell_type": "code",
   "execution_count": 31,
   "metadata": {
    "colab": {
     "base_uri": "https://localhost:8080/",
     "height": 524
    },
    "executionInfo": {
     "elapsed": 40487,
     "status": "ok",
     "timestamp": 1746542237256,
     "user": {
      "displayName": "Aiden Rocha",
      "userId": "03798662039225755281"
     },
     "user_tz": 240
    },
    "id": "GGkQN3By8Aaq",
    "outputId": "a48996a4-20d6-4218-fe33-eb1bcacf7998"
   },
   "outputs": [
    {
     "name": "stdout",
     "output_type": "stream",
     "text": [
      "\u001b[1m10584/10584\u001b[0m \u001b[32m━━━━━━━━━━━━━━━━━━━━\u001b[0m\u001b[37m\u001b[0m \u001b[1m35s\u001b[0m 3ms/step\n",
      "Accuracy: 0.6818\n",
      "F1 Score (macro): 0.2077\n"
     ]
    },
    {
     "data": {
      "image/png": "[encoded data removed]",
      "text/plain": [
       "<Figure size 640x480 with 2 Axes>"
      ]
     },
     "metadata": {},
     "output_type": "display_data"
    }
   ],
   "source": [
    "if len(y_test.shape) > 1 and y_test.shape[1] > 1:\n",
    "    y_test_labels = np.argmax(y_test, axis=1)\n",
    "else:\n",
    "    y_test_labels = y_test\n",
    "\n",
    "    y_pred_probs = model.predict(X_test_processed)\n",
    "\n",
    "y_pred_labels = np.argmax(y_pred_probs, axis=1)\n",
    "\n",
    "acc = accuracy_score(y_test_labels, y_pred_labels)\n",
    "print(f\"Accuracy: {acc:.4f}\")\n",
    "\n",
    "f1 = f1_score(y_test_labels, y_pred_labels, average='macro')\n",
    "print(f\"F1 Score (macro): {f1:.4f}\")\n",
    "\n",
    "cm = confusion_matrix(y_test_labels, y_pred_labels)\n",
    "disp = ConfusionMatrixDisplay(confusion_matrix=cm)\n",
    "disp.plot(cmap='Blues')\n",
    "plt.title(\"Confusion Matrix\")\n",
    "plt.show()"
   ]
  }
 ],
 "metadata": {
  "colab": {
   "authorship_tag": "ABX9TyPljnF3tJBhd8KFghv8fBf3",
   "mount_file_id": "1Eu8alYtSzOhAyPkOx33_Avavr73PPDbX",
   "provenance": []
  },
  "kernelspec": {
   "display_name": "Python 3",
   "name": "python3"
  },
  "language_info": {
   "name": "python",
   "version": "3.11.2"
  }
 },
 "nbformat": 4,
 "nbformat_minor": 0
}
