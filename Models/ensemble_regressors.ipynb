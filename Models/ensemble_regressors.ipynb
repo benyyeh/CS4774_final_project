{
 "cells": [
  {
   "cell_type": "markdown",
   "id": "5d95af56-1288-4413-b7fb-ddb426d234ac",
   "metadata": {
    "tags": []
   },
   "source": [
    "# Ensemble models to Predict Crash Severity"
   ]
  },
  {
   "cell_type": "markdown",
   "id": "6c3e68ec-ebd2-4762-8abc-63e2b28ef5c7",
   "metadata": {},
   "source": [
    "#### This notebook contains our ensemble methods that predict the label, \"Severity Score\". Severity Score is a continuous value and is calculated using the following formula:\n",
    "$$\n",
    "\\text{Severity Score} = \n",
    "(10 \\times \\text{K_People}) +\n",
    "(6 \\times \\text{A_People}) +\n",
    "(4 \\times \\text{B_People}) +\n",
    "(2 \\times \\text{C_People}) +\n",
    "(1.5 \\times \\text{Ped_Number}) +\n",
    "(0.2 \\times \\text{Vehicle_Count})\n",
    "$$\n",
    "\n",
    "where K_people is persons killed, A_people is persons serverly injured, B_people is persons with visible injury, C_people is persons with non-visible injury, Ped_Number is number of pedestrains invovled, and Vehicle_Count is number of vehicles involved"
   ]
  },
  {
   "cell_type": "code",
   "execution_count": 25,
   "id": "75bd0ddf",
   "metadata": {
    "tags": [],
    "vscode": {
     "languageId": "plaintext"
    }
   },
   "outputs": [],
   "source": [
    "import pandas as pd\n",
    "import re\n",
    "import numpy as np\n",
    "\n",
    "from sklearn.model_selection import train_test_split\n",
    "from sklearn.preprocessing import LabelEncoder\n",
    "from sklearn.compose import ColumnTransformer\n",
    "from sklearn.pipeline import Pipeline\n",
    "from sklearn.impute import SimpleImputer\n",
    "from sklearn.preprocessing import StandardScaler, OneHotEncoder\n",
    "\n",
    "from imblearn.over_sampling import SMOTE\n",
    "from imblearn.pipeline import Pipeline as ImbPipeline\n",
    "\n",
    "from sklearn.ensemble import RandomForestRegressor, AdaBoostRegressor, VotingRegressor\n",
    "import xgboost as xgb\n",
    "from xgboost import XGBRegressor\n",
    "import lightgbm as lgb\n",
    "from catboost import CatBoostRegressor\n",
    "from lightgbm import LGBMRegressor\n",
    "from catboost import CatBoostRegressor\n",
    "\n",
    "import seaborn as sns\n",
    "import matplotlib.pyplot as plt\n",
    "\n",
    "from sklearn.metrics import mean_squared_error, r2_score"
   ]
  },
  {
   "cell_type": "code",
   "execution_count": 2,
   "id": "b0b295d1-ade9-43bd-9de9-e5e67c3c57f1",
   "metadata": {
    "executionInfo": {
     "elapsed": 3617,
     "status": "ok",
     "timestamp": 1745868942008,
     "user": {
      "displayName": "Aiden Rocha",
      "userId": "03798662039225755281"
     },
     "user_tz": 240
    },
    "id": "u6oMWetecbPp"
   },
   "outputs": [],
   "source": [
    "df = pd.read_csv(\"crash_data.csv\", low_memory=False)"
   ]
  },
  {
   "cell_type": "code",
   "execution_count": 3,
   "id": "a26f1ed2-c408-4596-b035-182cc0d4ba58",
   "metadata": {
    "tags": []
   },
   "outputs": [
    {
     "data": {
      "text/plain": [
       "(1128862, 128)"
      ]
     },
     "execution_count": 3,
     "metadata": {},
     "output_type": "execute_result"
    }
   ],
   "source": [
    "df.shape"
   ]
  },
  {
   "cell_type": "code",
   "execution_count": 4,
   "id": "75bb1602-e326-4fe0-b611-69aebd50e04d",
   "metadata": {
    "executionInfo": {
     "elapsed": 27,
     "status": "ok",
     "timestamp": 1745868945335,
     "user": {
      "displayName": "Aiden Rocha",
      "userId": "03798662039225755281"
     },
     "user_tz": 240
    },
    "id": "1yjW_2YJcpWy"
   },
   "outputs": [],
   "source": [
    "keep_cols = [\n",
    "    'Crash_Date','Crash_Military_Time','Intersection_Type','Area_Type',\n",
    "    'Roadway_Alignment','Light_Condition','Weather_Condition',\n",
    "    'Roadway_Surface_Condition','Roadway_Surface_Type',\n",
    "    'Traffic_Control_Type','Traffic_Control_Status','Collision_Type',\n",
    "    'Speed_Posted','Vehicle_Count','First_Harmful_Event','Crash_Severity',\n",
    "    \n",
    "    'Alcohol?', 'Unrestrained?', 'Distracted?', 'Drowsy?', 'Drug_Related?', 'Speed?',\n",
    "    \n",
    "    'K_People', 'A_People', 'B_People', 'C_People',\n",
    "    'Pass_vehiclenumber', 'Ped_Number'\n",
    "]\n",
    "df = df[keep_cols].copy()"
   ]
  },
  {
   "cell_type": "code",
   "execution_count": 5,
   "id": "040601cd-3d84-431f-ad71-727198087d7c",
   "metadata": {
    "tags": []
   },
   "outputs": [
    {
     "data": {
      "text/plain": [
       "(1128862, 28)"
      ]
     },
     "execution_count": 5,
     "metadata": {},
     "output_type": "execute_result"
    }
   ],
   "source": [
    "df.shape"
   ]
  },
  {
   "cell_type": "code",
   "execution_count": 6,
   "id": "b4d11df3-5de7-4c96-bcd7-badcbf72abb6",
   "metadata": {
    "tags": []
   },
   "outputs": [],
   "source": [
    "df.loc[:, 'Ped_Number'] = df['Ped_Number'].fillna(0).apply(pd.to_numeric, errors='coerce')"
   ]
  },
  {
   "cell_type": "code",
   "execution_count": 7,
   "id": "04104eea-f71e-4735-91a8-5a0387f0ecb8",
   "metadata": {
    "tags": []
   },
   "outputs": [],
   "source": [
    "def calculate_severity_score(row):\n",
    "    # Raw Severity Score\n",
    "    return (\n",
    "        10 * row['K_People'] +\n",
    "        6 * row['A_People'] +\n",
    "        4 * row['B_People'] +\n",
    "        2 * row['C_People'] +\n",
    "        1.5 * row['Ped_Number'] +\n",
    "        0.2 * row['Vehicle_Count']\n",
    "    )"
   ]
  },
  {
   "cell_type": "code",
   "execution_count": 8,
   "id": "e289bf2d-5dd1-40f5-998e-dfdce4f8a1cc",
   "metadata": {
    "tags": []
   },
   "outputs": [],
   "source": [
    "df.loc[:, 'Severity_Score'] = df.apply(calculate_severity_score, axis=1)"
   ]
  },
  {
   "cell_type": "code",
   "execution_count": 9,
   "id": "1b5c424a-4d50-4ff0-ad07-930e4446bee9",
   "metadata": {
    "tags": []
   },
   "outputs": [],
   "source": [
    "df.loc[:, 'Normalized_Severity_Score'] = (df['Severity_Score'] / 400) * 100"
   ]
  },
  {
   "cell_type": "code",
   "execution_count": 10,
   "id": "41e8a365-dc3d-4c6b-b912-ec47269a54c1",
   "metadata": {
    "tags": []
   },
   "outputs": [
    {
     "data": {
      "text/plain": [
       "(1128862, 30)"
      ]
     },
     "execution_count": 10,
     "metadata": {},
     "output_type": "execute_result"
    }
   ],
   "source": [
    "df.shape"
   ]
  },
  {
   "cell_type": "code",
   "execution_count": 11,
   "id": "66dfe5bd-6b35-467f-9cc3-57b03396eaa2",
   "metadata": {
    "tags": []
   },
   "outputs": [
    {
     "name": "stdout",
     "output_type": "stream",
     "text": [
      "Range of Severity Score: (0.2, 344.2)\n"
     ]
    }
   ],
   "source": [
    "severity_range = df['Severity_Score'].min(), df['Severity_Score'].max()\n",
    "print(f\"Range of Severity Score: {severity_range}\")"
   ]
  },
  {
   "cell_type": "code",
   "execution_count": 12,
   "id": "6d008161-cdc7-402d-a347-93d20c7bab5c",
   "metadata": {
    "tags": []
   },
   "outputs": [
    {
     "name": "stdout",
     "output_type": "stream",
     "text": [
      "Range of Normalized Severity Score: (0.05, 86.05)\n"
     ]
    }
   ],
   "source": [
    "normalized_severity_range = df['Normalized_Severity_Score'].min(), df['Normalized_Severity_Score'].max()\n",
    "print(f\"Range of Normalized Severity Score: {normalized_severity_range}\")"
   ]
  },
  {
   "cell_type": "code",
   "execution_count": 13,
   "id": "ca0d41f4-bc79-4ba6-a8be-3d26440f77c2",
   "metadata": {
    "tags": []
   },
   "outputs": [
    {
     "data": {
      "image/png": "[encoded data removed]",
      "text/plain": [
       "<Figure size 1400x600 with 2 Axes>"
      ]
     },
     "metadata": {},
     "output_type": "display_data"
    }
   ],
   "source": [
    "sns.set(style=\"whitegrid\")\n",
    "\n",
    "fig, axes = plt.subplots(1, 2, figsize=(14, 6))\n",
    "\n",
    "# Plot for the Severity Score\n",
    "sns.histplot(df['Severity_Score'], bins=10, kde=True, ax=axes[0], color='skyblue')\n",
    "axes[0].set_title('Distribution of Severity Score')\n",
    "axes[0].set_xlabel('Severity Score')\n",
    "axes[0].set_ylabel('Frequency')\n",
    "\n",
    "# Plot for the Normalized Severity Score\n",
    "sns.histplot(df['Normalized_Severity_Score'], bins=10, kde=True, ax=axes[1], color='salmon')\n",
    "axes[1].set_title('Distribution of Normalized Severity Score')\n",
    "axes[1].set_xlabel('Normalized Severity Score')\n",
    "axes[1].set_ylabel('Frequency')\n",
    "\n",
    "plt.tight_layout()\n",
    "plt.show()"
   ]
  },
  {
   "cell_type": "code",
   "execution_count": 14,
   "id": "de526bda-88e5-49da-a7b4-19fa6102b20a",
   "metadata": {
    "executionInfo": {
     "elapsed": 69,
     "status": "ok",
     "timestamp": 1745868947862,
     "user": {
      "displayName": "Aiden Rocha",
      "userId": "03798662039225755281"
     },
     "user_tz": 240
    },
    "id": "ON1dKKzAdwtu"
   },
   "outputs": [],
   "source": [
    "df['Crash_Date'] = pd.to_datetime(df['Crash_Date'])\n",
    "df['day_of_week'] = df['Crash_Date'].dt.day_name()"
   ]
  },
  {
   "cell_type": "code",
   "execution_count": 15,
   "id": "2078f585-fa3f-4395-aa9a-3823c9a0eb73",
   "metadata": {
    "executionInfo": {
     "elapsed": 89,
     "status": "ok",
     "timestamp": 1745868950096,
     "user": {
      "displayName": "Aiden Rocha",
      "userId": "03798662039225755281"
     },
     "user_tz": 240
    },
    "id": "N4l85WuReF6S"
   },
   "outputs": [],
   "source": [
    "def extract_hour(t):\n",
    "    s = str(int(t)).zfill(4)\n",
    "    return int(s[:2])\n",
    "df['hour_of_day'] = df['Crash_Military_Time'].apply(extract_hour)\n",
    "\n",
    "bins = [0, 6, 12, 18, 24]\n",
    "labels = ['Night','Morning','Afternoon','Evening']\n",
    "df['time_of_day'] = pd.cut(df['hour_of_day'], bins=bins, labels=labels, right=False)\n"
   ]
  },
  {
   "cell_type": "code",
   "execution_count": 16,
   "id": "1a9b84dc-b3f3-4314-94c6-074704b16209",
   "metadata": {
    "executionInfo": {
     "elapsed": 251,
     "status": "ok",
     "timestamp": 1745868952018,
     "user": {
      "displayName": "Aiden Rocha",
      "userId": "03798662039225755281"
     },
     "user_tz": 240
    },
    "id": "YuJpqtZBeJAX"
   },
   "outputs": [],
   "source": [
    "def parse_max_speed(s):\n",
    "    if pd.isna(s):\n",
    "        return np.nan\n",
    "    nums = [int(x) for x in re.findall(r'\\d+', s)]\n",
    "    return max(nums) if nums else np.nan\n",
    "\n",
    "df['Speed_Posted_max'] = df['Speed_Posted'].apply(parse_max_speed)\n"
   ]
  },
  {
   "cell_type": "code",
   "execution_count": 17,
   "id": "24a4b43f-0ac7-4a84-8297-fd5e2900b3b3",
   "metadata": {
    "executionInfo": {
     "elapsed": 4,
     "status": "ok",
     "timestamp": 1745868953341,
     "user": {
      "displayName": "Aiden Rocha",
      "userId": "03798662039225755281"
     },
     "user_tz": 240
    },
    "id": "aiRtU9DCeJmG"
   },
   "outputs": [],
   "source": [
    "df = df.drop(columns=['Crash_Date','Crash_Military_Time','Speed_Posted','hour_of_day'])"
   ]
  },
  {
   "cell_type": "code",
   "execution_count": 18,
   "id": "c3cf036f-30fe-4f5c-894a-fc843432a178",
   "metadata": {
    "tags": []
   },
   "outputs": [
    {
     "data": {
      "text/plain": [
       "(1128862, 30)"
      ]
     },
     "execution_count": 18,
     "metadata": {},
     "output_type": "execute_result"
    }
   ],
   "source": [
    "df.shape"
   ]
  },
  {
   "cell_type": "code",
   "execution_count": 19,
   "id": "2a5d5b9a-5a30-47b3-ad5a-710869ca57d0",
   "metadata": {
    "tags": []
   },
   "outputs": [
    {
     "data": {
      "text/html": [
       "<div>\n",
       "<style scoped>\n",
       "    .dataframe tbody tr th:only-of-type {\n",
       "        vertical-align: middle;\n",
       "    }\n",
       "\n",
       "    .dataframe tbody tr th {\n",
       "        vertical-align: top;\n",
       "    }\n",
       "\n",
       "    .dataframe thead th {\n",
       "        text-align: right;\n",
       "    }\n",
       "</style>\n",
       "<table border=\"1\" class=\"dataframe\">\n",
       "  <thead>\n",
       "    <tr style=\"text-align: right;\">\n",
       "      <th></th>\n",
       "      <th>Intersection_Type</th>\n",
       "      <th>Area_Type</th>\n",
       "      <th>Roadway_Alignment</th>\n",
       "      <th>Light_Condition</th>\n",
       "      <th>Weather_Condition</th>\n",
       "      <th>Roadway_Surface_Condition</th>\n",
       "      <th>Roadway_Surface_Type</th>\n",
       "      <th>Traffic_Control_Type</th>\n",
       "      <th>Traffic_Control_Status</th>\n",
       "      <th>Collision_Type</th>\n",
       "      <th>...</th>\n",
       "      <th>A_People</th>\n",
       "      <th>B_People</th>\n",
       "      <th>C_People</th>\n",
       "      <th>Pass_vehiclenumber</th>\n",
       "      <th>Ped_Number</th>\n",
       "      <th>Severity_Score</th>\n",
       "      <th>Normalized_Severity_Score</th>\n",
       "      <th>day_of_week</th>\n",
       "      <th>time_of_day</th>\n",
       "      <th>Speed_Posted_max</th>\n",
       "    </tr>\n",
       "  </thead>\n",
       "  <tbody>\n",
       "    <tr>\n",
       "      <th>0</th>\n",
       "      <td>1. Not at Intersection</td>\n",
       "      <td>Urban</td>\n",
       "      <td>1. Straight - Level</td>\n",
       "      <td>4. Darkness - Road Lighted</td>\n",
       "      <td>1. No Adverse Condition (Clear/Cloudy)</td>\n",
       "      <td>1. Dry</td>\n",
       "      <td>2. Blacktop, Asphalt, Bituminous</td>\n",
       "      <td>17. Highway Safety Corridor</td>\n",
       "      <td>1. Yes - Working</td>\n",
       "      <td>1. Rear End</td>\n",
       "      <td>...</td>\n",
       "      <td>0</td>\n",
       "      <td>0</td>\n",
       "      <td>0</td>\n",
       "      <td>NaN</td>\n",
       "      <td>0.0</td>\n",
       "      <td>0.4</td>\n",
       "      <td>0.10</td>\n",
       "      <td>Tuesday</td>\n",
       "      <td>Morning</td>\n",
       "      <td>60.0</td>\n",
       "    </tr>\n",
       "    <tr>\n",
       "      <th>1</th>\n",
       "      <td>1. Not at Intersection</td>\n",
       "      <td>Urban</td>\n",
       "      <td>1. Straight - Level</td>\n",
       "      <td>2. Daylight</td>\n",
       "      <td>1. No Adverse Condition (Clear/Cloudy)</td>\n",
       "      <td>1. Dry</td>\n",
       "      <td>1. Concrete</td>\n",
       "      <td>6. Traffic Lanes Marked</td>\n",
       "      <td>1. Yes - Working</td>\n",
       "      <td>2. Angle</td>\n",
       "      <td>...</td>\n",
       "      <td>0</td>\n",
       "      <td>0</td>\n",
       "      <td>0</td>\n",
       "      <td>NaN</td>\n",
       "      <td>0.0</td>\n",
       "      <td>0.4</td>\n",
       "      <td>0.10</td>\n",
       "      <td>Tuesday</td>\n",
       "      <td>Afternoon</td>\n",
       "      <td>35.0</td>\n",
       "    </tr>\n",
       "    <tr>\n",
       "      <th>2</th>\n",
       "      <td>1. Not at Intersection</td>\n",
       "      <td>Rural</td>\n",
       "      <td>1. Straight - Level</td>\n",
       "      <td>4. Darkness - Road Lighted</td>\n",
       "      <td>1. No Adverse Condition (Clear/Cloudy)</td>\n",
       "      <td>1. Dry</td>\n",
       "      <td>2. Blacktop, Asphalt, Bituminous</td>\n",
       "      <td>6. Traffic Lanes Marked</td>\n",
       "      <td>1. Yes - Working</td>\n",
       "      <td>9. Fixed Object - Off Road</td>\n",
       "      <td>...</td>\n",
       "      <td>0</td>\n",
       "      <td>2</td>\n",
       "      <td>0</td>\n",
       "      <td>1</td>\n",
       "      <td>0.0</td>\n",
       "      <td>8.2</td>\n",
       "      <td>2.05</td>\n",
       "      <td>Saturday</td>\n",
       "      <td>Evening</td>\n",
       "      <td>55.0</td>\n",
       "    </tr>\n",
       "    <tr>\n",
       "      <th>3</th>\n",
       "      <td>1. Not at Intersection</td>\n",
       "      <td>Urban</td>\n",
       "      <td>1. Straight - Level</td>\n",
       "      <td>5. Darkness - Road Not Lighted</td>\n",
       "      <td>5. Rain</td>\n",
       "      <td>2. Wet</td>\n",
       "      <td>2. Blacktop, Asphalt, Bituminous</td>\n",
       "      <td>6. Traffic Lanes Marked</td>\n",
       "      <td>6. No Traffic Control Device Present</td>\n",
       "      <td>1. Rear End</td>\n",
       "      <td>...</td>\n",
       "      <td>0</td>\n",
       "      <td>0</td>\n",
       "      <td>0</td>\n",
       "      <td>NaN</td>\n",
       "      <td>0.0</td>\n",
       "      <td>0.4</td>\n",
       "      <td>0.10</td>\n",
       "      <td>Saturday</td>\n",
       "      <td>Night</td>\n",
       "      <td>35.0</td>\n",
       "    </tr>\n",
       "    <tr>\n",
       "      <th>4</th>\n",
       "      <td>3. Three Approaches</td>\n",
       "      <td>Rural</td>\n",
       "      <td>3. Grade - Straight</td>\n",
       "      <td>2. Daylight</td>\n",
       "      <td>1. No Adverse Condition (Clear/Cloudy)</td>\n",
       "      <td>1. Dry</td>\n",
       "      <td>2. Blacktop, Asphalt, Bituminous</td>\n",
       "      <td>4. Stop Sign</td>\n",
       "      <td>1. Yes - Working</td>\n",
       "      <td>1. Rear End</td>\n",
       "      <td>...</td>\n",
       "      <td>0</td>\n",
       "      <td>0</td>\n",
       "      <td>0</td>\n",
       "      <td>NaN</td>\n",
       "      <td>0.0</td>\n",
       "      <td>0.4</td>\n",
       "      <td>0.10</td>\n",
       "      <td>Monday</td>\n",
       "      <td>Morning</td>\n",
       "      <td>55.0</td>\n",
       "    </tr>\n",
       "  </tbody>\n",
       "</table>\n",
       "<p>5 rows × 30 columns</p>\n",
       "</div>"
      ],
      "text/plain": [
       "        Intersection_Type Area_Type    Roadway_Alignment  \\\n",
       "0  1. Not at Intersection     Urban  1. Straight - Level   \n",
       "1  1. Not at Intersection     Urban  1. Straight - Level   \n",
       "2  1. Not at Intersection     Rural  1. Straight - Level   \n",
       "3  1. Not at Intersection     Urban  1. Straight - Level   \n",
       "4     3. Three Approaches     Rural  3. Grade - Straight   \n",
       "\n",
       "                  Light_Condition                       Weather_Condition  \\\n",
       "0      4. Darkness - Road Lighted  1. No Adverse Condition (Clear/Cloudy)   \n",
       "1                     2. Daylight  1. No Adverse Condition (Clear/Cloudy)   \n",
       "2      4. Darkness - Road Lighted  1. No Adverse Condition (Clear/Cloudy)   \n",
       "3  5. Darkness - Road Not Lighted                                 5. Rain   \n",
       "4                     2. Daylight  1. No Adverse Condition (Clear/Cloudy)   \n",
       "\n",
       "  Roadway_Surface_Condition              Roadway_Surface_Type  \\\n",
       "0                    1. Dry  2. Blacktop, Asphalt, Bituminous   \n",
       "1                    1. Dry                       1. Concrete   \n",
       "2                    1. Dry  2. Blacktop, Asphalt, Bituminous   \n",
       "3                    2. Wet  2. Blacktop, Asphalt, Bituminous   \n",
       "4                    1. Dry  2. Blacktop, Asphalt, Bituminous   \n",
       "\n",
       "          Traffic_Control_Type                Traffic_Control_Status  \\\n",
       "0  17. Highway Safety Corridor                      1. Yes - Working   \n",
       "1      6. Traffic Lanes Marked                      1. Yes - Working   \n",
       "2      6. Traffic Lanes Marked                      1. Yes - Working   \n",
       "3      6. Traffic Lanes Marked  6. No Traffic Control Device Present   \n",
       "4                 4. Stop Sign                      1. Yes - Working   \n",
       "\n",
       "               Collision_Type  ...  A_People B_People C_People  \\\n",
       "0                 1. Rear End  ...         0        0        0   \n",
       "1                    2. Angle  ...         0        0        0   \n",
       "2  9. Fixed Object - Off Road  ...         0        2        0   \n",
       "3                 1. Rear End  ...         0        0        0   \n",
       "4                 1. Rear End  ...         0        0        0   \n",
       "\n",
       "  Pass_vehiclenumber Ped_Number Severity_Score Normalized_Severity_Score  \\\n",
       "0                NaN        0.0            0.4                      0.10   \n",
       "1                NaN        0.0            0.4                      0.10   \n",
       "2                  1        0.0            8.2                      2.05   \n",
       "3                NaN        0.0            0.4                      0.10   \n",
       "4                NaN        0.0            0.4                      0.10   \n",
       "\n",
       "  day_of_week time_of_day  Speed_Posted_max  \n",
       "0     Tuesday     Morning              60.0  \n",
       "1     Tuesday   Afternoon              35.0  \n",
       "2    Saturday     Evening              55.0  \n",
       "3    Saturday       Night              35.0  \n",
       "4      Monday     Morning              55.0  \n",
       "\n",
       "[5 rows x 30 columns]"
      ]
     },
     "execution_count": 19,
     "metadata": {},
     "output_type": "execute_result"
    }
   ],
   "source": [
    "df.head()"
   ]
  },
  {
   "cell_type": "code",
   "execution_count": 20,
   "id": "d0f01b01-d4ef-4ae6-9fac-49aca0496b06",
   "metadata": {
    "tags": []
   },
   "outputs": [],
   "source": [
    "df.to_csv('crash_data_score_ypdo.csv', index=False)"
   ]
  },
  {
   "cell_type": "markdown",
   "id": "7520ce3f-44f3-42cb-b6fb-0fddbe229931",
   "metadata": {},
   "source": [
    "## Models\n",
    "\n",
    "All models with include the following attributes: 'Intersection_Type','Area_Type','Roadway_Alignment', 'Light_Condition','Weather_Condition', 'Roadway_Surface_Condition','Roadway_Surface_Type', 'Traffic_Control_Type','Traffic_Control_Status', 'Collision_Type','First_Harmful_Event','day_of_week','time_of_day', 'Alcohol?', 'Unrestrained?', 'Distracted?', 'Drowsy?', 'Drug_Related?', 'Speed?'\n"
   ]
  },
  {
   "cell_type": "markdown",
   "id": "c8561152-164b-43ca-9087-f6477664e1af",
   "metadata": {},
   "source": [
    "### Pipeline -- PDO included"
   ]
  },
  {
   "cell_type": "code",
   "execution_count": null,
   "id": "4a265b23-024d-47ab-8a3c-b2a323b5cd7b",
   "metadata": {
    "tags": []
   },
   "outputs": [],
   "source": [
    "df = pd.read_csv(\"crash_data_score_ypdo.csv\")"
   ]
  },
  {
   "cell_type": "code",
   "execution_count": null,
   "id": "ceb2f681-3395-406a-8a43-cb42ad9aad0c",
   "metadata": {
    "tags": []
   },
   "outputs": [],
   "source": [
    "df.shape"
   ]
  },
  {
   "cell_type": "code",
   "execution_count": null,
   "id": "40c6d221-482b-4177-95ba-a8c1ec5ee3e4",
   "metadata": {
    "executionInfo": {
     "elapsed": 7,
     "status": "ok",
     "timestamp": 1745868954920,
     "user": {
      "displayName": "Aiden Rocha",
      "userId": "03798662039225755281"
     },
     "user_tz": 240
    },
    "id": "MwbN6kk_eM9x"
   },
   "outputs": [],
   "source": [
    "X = df.drop(columns=['Severity_Score'])\n",
    "y = df['Severity_Score']"
   ]
  },
  {
   "cell_type": "code",
   "execution_count": null,
   "id": "78eba6df-90ac-4a9f-aa8a-0dd1afd8b66c",
   "metadata": {
    "executionInfo": {
     "elapsed": 25,
     "status": "ok",
     "timestamp": 1745869254848,
     "user": {
      "displayName": "Aiden Rocha",
      "userId": "03798662039225755281"
     },
     "user_tz": 240
    },
    "id": "G4gSeiGdeV7r"
   },
   "outputs": [],
   "source": [
    "X_train, X_test, y_train, y_test = train_test_split(\n",
    "    X, y_enc,\n",
    "    test_size=0.30,\n",
    "    # stratify=y_enc,\n",
    "    random_state=42\n",
    ")"
   ]
  },
  {
   "cell_type": "code",
   "execution_count": null,
   "id": "8484d8a9-6e71-4317-b826-41035b38ed44",
   "metadata": {
    "executionInfo": {
     "elapsed": 8,
     "status": "ok",
     "timestamp": 1745869147052,
     "user": {
      "displayName": "Aiden Rocha",
      "userId": "03798662039225755281"
     },
     "user_tz": 240
    },
    "id": "4q-JeLFoea_n",
    "tags": []
   },
   "outputs": [],
   "source": [
    "numeric_feats = ['Vehicle_Count','Speed_Posted_max']\n",
    "numeric_pipe = Pipeline([\n",
    "    ('impute', SimpleImputer(strategy='median')),\n",
    "    ('scale', StandardScaler())\n",
    "])\n",
    "\n",
    "categorical_feats = [\n",
    "    'Intersection_Type','Area_Type','Roadway_Alignment',\n",
    "    'Light_Condition','Weather_Condition',\n",
    "    'Roadway_Surface_Condition','Roadway_Surface_Type',\n",
    "    'Traffic_Control_Type','Traffic_Control_Status',\n",
    "    'Collision_Type','First_Harmful_Event',\n",
    "    'day_of_week','time_of_day',\n",
    "    \n",
    "    'Alcohol?', 'Unrestrained?', 'Distracted?', 'Drowsy?', 'Drug_Related?', 'Speed?'\n",
    "]\n",
    "categorical_pipe = Pipeline([\n",
    "    ('impute', SimpleImputer(strategy='constant', fill_value='missing')),\n",
    "    ('onehot', OneHotEncoder(handle_unknown='ignore'))\n",
    "])\n",
    "\n",
    "preprocessor = ColumnTransformer([\n",
    "    ('num', numeric_pipe, numeric_feats),\n",
    "    ('cat', categorical_pipe, categorical_feats)\n",
    "])\n"
   ]
  },
  {
   "cell_type": "markdown",
   "id": "ec41ba93-c1e5-48e7-8263-a20c3ddcfc69",
   "metadata": {},
   "source": [
    "## Random Forest"
   ]
  },
  {
   "cell_type": "code",
   "execution_count": null,
   "id": "5dd484fa-f404-4b86-9b69-1e861f85817c",
   "metadata": {
    "tags": []
   },
   "outputs": [],
   "source": [
    "rf_regressor = RandomForestRegressor(n_estimators=100, random_state=42, max_depth=10)\n",
    "\n",
    "model = Pipeline([\n",
    "    ('preproc', preprocessor),\n",
    "    ('rf', rf_regressor)\n",
    "])"
   ]
  },
  {
   "cell_type": "code",
   "execution_count": null,
   "id": "c2bfba65-ff96-4c82-a0e0-5ee2c982d105",
   "metadata": {
    "tags": []
   },
   "outputs": [],
   "source": [
    "model.fit(X_train, y_train)"
   ]
  },
  {
   "cell_type": "code",
   "execution_count": null,
   "id": "e3ddad4a-18e4-4be8-b012-e9f0c7d474b3",
   "metadata": {
    "tags": []
   },
   "outputs": [],
   "source": [
    "y_pred = model.predict(X_test)"
   ]
  },
  {
   "cell_type": "code",
   "execution_count": 18,
   "id": "1bb0b63f-1f3e-4158-b08a-d33de3a208af",
   "metadata": {},
   "outputs": [
    {
     "name": "stdout",
     "output_type": "stream",
     "text": [
      "RMSE: 22.3346\n",
      "R^2 Score: 0.1610\n"
     ]
    }
   ],
   "source": [
    "# Evaluate\n",
    "mse = mean_squared_error(y_test, y_pred)\n",
    "rmse = np.sqrt(mse)\n",
    "r2 = r2_score(y_test, y_pred)\n",
    "\n",
    "print(f\"RMSE: {rmse:.4f}\")\n",
    "print(f\"R^2 Score: {r2:.4f}\")"
   ]
  },
  {
   "cell_type": "markdown",
   "id": "a16e6f71-8982-4eaa-86c3-87848552a6c4",
   "metadata": {},
   "source": [
    "## Ensemble model -- RF, XGBoost, AdaBoost, LightGBM, CatBoost"
   ]
  },
  {
   "cell_type": "code",
   "execution_count": 34,
   "id": "81843382-85ed-4561-a8a3-7a6ec26817ab",
   "metadata": {},
   "outputs": [],
   "source": [
    "rf   = RandomForestRegressor(max_depth=10, min_samples_leaf=1, min_samples_split=2,\n",
    "                             n_estimators=100, random_state=42)\n",
    "\n",
    "xgbr = XGBRegressor(learning_rate=0.1, max_depth=3, n_estimators=100, min_child_weight=1,\n",
    "                    random_state=42)\n",
    "\n",
    "adbr = AdaBoostRegressor(learning_rate=0.1, n_estimators=50, random_state=42)\n",
    "\n",
    "lgbr = LGBMRegressor(learning_rate=0.1, max_depth=3, n_estimators=100, random_state=42)\n",
    "\n",
    "catr = CatBoostRegressor(learning_rate=0.1, max_depth=3, n_estimators=100,\n",
    "                         verbose=0, random_state=42, thread_count=1)"
   ]
  },
  {
   "cell_type": "code",
   "execution_count": 35,
   "id": "2be6de60-7d28-4376-a83e-4a1147dac932",
   "metadata": {},
   "outputs": [],
   "source": [
    "ensemble_reg = VotingRegressor(\n",
    "    estimators=[('rf', rf), ('xgb', xgbr), ('ada', adbr), ('lgb', lgbr),],\n",
    "    n_jobs=-1\n",
    ")"
   ]
  },
  {
   "cell_type": "code",
   "execution_count": 36,
   "id": "91c3af62-4992-431f-803e-162dfaaefca0",
   "metadata": {},
   "outputs": [],
   "source": [
    "model = Pipeline([\n",
    "    ('preproc', preprocessor),\n",
    "    ('clf', ensemble_reg)\n",
    "])"
   ]
  },
  {
   "cell_type": "code",
   "execution_count": 37,
   "id": "2b69ebd4-f778-46c8-a4d9-e5b1da0f352a",
   "metadata": {},
   "outputs": [
    {
     "name": "stdout",
     "output_type": "stream",
     "text": [
      "[LightGBM] [Info] Auto-choosing row-wise multi-threading, the overhead of testing was 0.185893 seconds.\n",
      "You can set `force_row_wise=true` to remove the overhead.\n",
      "And if memory is not enough, you can set `force_col_wise=true`.\n",
      "[LightGBM] [Info] Total Bins 337\n",
      "[LightGBM] [Info] Number of data points in the train set: 790203, number of used features: 157\n",
      "[LightGBM] [Info] Start training from score 13.084352\n",
      "[LightGBM] [Warning] No further splits with positive gain, best gain: -inf\n",
      "[LightGBM] [Warning] No further splits with positive gain, best gain: -inf\n",
      "[LightGBM] [Warning] No further splits with positive gain, best gain: -inf\n",
      "[LightGBM] [Warning] No further splits with positive gain, best gain: -inf\n",
      "[LightGBM] [Warning] No further splits with positive gain, best gain: -inf\n",
      "[LightGBM] [Warning] No further splits with positive gain, best gain: -inf\n",
      "[LightGBM] [Warning] No further splits with positive gain, best gain: -inf\n",
      "[LightGBM] [Warning] No further splits with positive gain, best gain: -inf\n",
      "[LightGBM] [Warning] No further splits with positive gain, best gain: -inf\n",
      "[LightGBM] [Warning] No further splits with positive gain, best gain: -inf\n",
      "[LightGBM] [Warning] No further splits with positive gain, best gain: -inf\n",
      "[LightGBM] [Warning] No further splits with positive gain, best gain: -inf\n",
      "[LightGBM] [Warning] No further splits with positive gain, best gain: -inf\n",
      "[LightGBM] [Warning] No further splits with positive gain, best gain: -inf\n",
      "[LightGBM] [Warning] No further splits with positive gain, best gain: -inf\n",
      "[LightGBM] [Warning] No further splits with positive gain, best gain: -inf\n",
      "[LightGBM] [Warning] No further splits with positive gain, best gain: -inf\n",
      "[LightGBM] [Warning] No further splits with positive gain, best gain: -inf\n",
      "[LightGBM] [Warning] No further splits with positive gain, best gain: -inf\n",
      "[LightGBM] [Warning] No further splits with positive gain, best gain: -inf\n",
      "[LightGBM] [Warning] No further splits with positive gain, best gain: -inf\n",
      "[LightGBM] [Warning] No further splits with positive gain, best gain: -inf\n",
      "[LightGBM] [Warning] No further splits with positive gain, best gain: -inf\n",
      "[LightGBM] [Warning] No further splits with positive gain, best gain: -inf\n",
      "[LightGBM] [Warning] No further splits with positive gain, best gain: -inf\n",
      "[LightGBM] [Warning] No further splits with positive gain, best gain: -inf\n",
      "[LightGBM] [Warning] No further splits with positive gain, best gain: -inf\n",
      "[LightGBM] [Warning] No further splits with positive gain, best gain: -inf\n",
      "[LightGBM] [Warning] No further splits with positive gain, best gain: -inf\n",
      "[LightGBM] [Warning] No further splits with positive gain, best gain: -inf\n",
      "[LightGBM] [Warning] No further splits with positive gain, best gain: -inf\n",
      "[LightGBM] [Warning] No further splits with positive gain, best gain: -inf\n",
      "[LightGBM] [Warning] No further splits with positive gain, best gain: -inf\n",
      "[LightGBM] [Warning] No further splits with positive gain, best gain: -inf\n",
      "[LightGBM] [Warning] No further splits with positive gain, best gain: -inf\n",
      "[LightGBM] [Warning] No further splits with positive gain, best gain: -inf\n",
      "[LightGBM] [Warning] No further splits with positive gain, best gain: -inf\n",
      "[LightGBM] [Warning] No further splits with positive gain, best gain: -inf\n",
      "[LightGBM] [Warning] No further splits with positive gain, best gain: -inf\n",
      "[LightGBM] [Warning] No further splits with positive gain, best gain: -inf\n",
      "[LightGBM] [Warning] No further splits with positive gain, best gain: -inf\n",
      "[LightGBM] [Warning] No further splits with positive gain, best gain: -inf\n",
      "[LightGBM] [Warning] No further splits with positive gain, best gain: -inf\n",
      "[LightGBM] [Warning] No further splits with positive gain, best gain: -inf\n",
      "[LightGBM] [Warning] No further splits with positive gain, best gain: -inf\n",
      "[LightGBM] [Warning] No further splits with positive gain, best gain: -inf\n",
      "[LightGBM] [Warning] No further splits with positive gain, best gain: -inf\n",
      "[LightGBM] [Warning] No further splits with positive gain, best gain: -inf\n",
      "[LightGBM] [Warning] No further splits with positive gain, best gain: -inf\n",
      "[LightGBM] [Warning] No further splits with positive gain, best gain: -inf\n",
      "[LightGBM] [Warning] No further splits with positive gain, best gain: -inf\n",
      "[LightGBM] [Warning] No further splits with positive gain, best gain: -inf\n",
      "[LightGBM] [Warning] No further splits with positive gain, best gain: -inf\n",
      "[LightGBM] [Warning] No further splits with positive gain, best gain: -inf\n",
      "[LightGBM] [Warning] No further splits with positive gain, best gain: -inf\n",
      "[LightGBM] [Warning] No further splits with positive gain, best gain: -inf\n",
      "[LightGBM] [Warning] No further splits with positive gain, best gain: -inf\n",
      "[LightGBM] [Warning] No further splits with positive gain, best gain: -inf\n",
      "[LightGBM] [Warning] No further splits with positive gain, best gain: -inf\n",
      "[LightGBM] [Warning] No further splits with positive gain, best gain: -inf\n",
      "[LightGBM] [Warning] No further splits with positive gain, best gain: -inf\n",
      "[LightGBM] [Warning] No further splits with positive gain, best gain: -inf\n",
      "[LightGBM] [Warning] No further splits with positive gain, best gain: -inf\n",
      "[LightGBM] [Warning] No further splits with positive gain, best gain: -inf\n",
      "[LightGBM] [Warning] No further splits with positive gain, best gain: -inf\n",
      "[LightGBM] [Warning] No further splits with positive gain, best gain: -inf\n",
      "[LightGBM] [Warning] No further splits with positive gain, best gain: -inf\n",
      "[LightGBM] [Warning] No further splits with positive gain, best gain: -inf\n",
      "[LightGBM] [Warning] No further splits with positive gain, best gain: -inf\n",
      "[LightGBM] [Warning] No further splits with positive gain, best gain: -inf\n",
      "[LightGBM] [Warning] No further splits with positive gain, best gain: -inf\n",
      "[LightGBM] [Warning] No further splits with positive gain, best gain: -inf\n",
      "[LightGBM] [Warning] No further splits with positive gain, best gain: -inf\n",
      "[LightGBM] [Warning] No further splits with positive gain, best gain: -inf\n",
      "[LightGBM] [Warning] No further splits with positive gain, best gain: -inf\n",
      "[LightGBM] [Warning] No further splits with positive gain, best gain: -inf\n",
      "[LightGBM] [Warning] No further splits with positive gain, best gain: -inf\n",
      "[LightGBM] [Warning] No further splits with positive gain, best gain: -inf\n",
      "[LightGBM] [Warning] No further splits with positive gain, best gain: -inf\n",
      "[LightGBM] [Warning] No further splits with positive gain, best gain: -inf\n",
      "[LightGBM] [Warning] No further splits with positive gain, best gain: -inf\n",
      "[LightGBM] [Warning] No further splits with positive gain, best gain: -inf\n",
      "[LightGBM] [Warning] No further splits with positive gain, best gain: -inf\n",
      "[LightGBM] [Warning] No further splits with positive gain, best gain: -inf\n",
      "[LightGBM] [Warning] No further splits with positive gain, best gain: -inf\n",
      "[LightGBM] [Warning] No further splits with positive gain, best gain: -inf\n",
      "[LightGBM] [Warning] No further splits with positive gain, best gain: -inf\n",
      "[LightGBM] [Warning] No further splits with positive gain, best gain: -inf\n",
      "[LightGBM] [Warning] No further splits with positive gain, best gain: -inf\n",
      "[LightGBM] [Warning] No further splits with positive gain, best gain: -inf\n",
      "[LightGBM] [Warning] No further splits with positive gain, best gain: -inf\n",
      "[LightGBM] [Warning] No further splits with positive gain, best gain: -inf\n",
      "[LightGBM] [Warning] No further splits with positive gain, best gain: -inf\n",
      "[LightGBM] [Warning] No further splits with positive gain, best gain: -inf\n",
      "[LightGBM] [Warning] No further splits with positive gain, best gain: -inf\n",
      "[LightGBM] [Warning] No further splits with positive gain, best gain: -inf\n",
      "[LightGBM] [Warning] No further splits with positive gain, best gain: -inf\n",
      "[LightGBM] [Warning] No further splits with positive gain, best gain: -inf\n",
      "[LightGBM] [Warning] No further splits with positive gain, best gain: -inf\n",
      "[LightGBM] [Warning] No further splits with positive gain, best gain: -inf\n"
     ]
    },
    {
     "data": {
      "text/html": [
       "<style>#sk-container-id-2 {\n",
       "  /* Definition of color scheme common for light and dark mode */\n",
       "  --sklearn-color-text: #000;\n",
       "  --sklearn-color-text-muted: #666;\n",
       "  --sklearn-color-line: gray;\n",
       "  /* Definition of color scheme for unfitted estimators */\n",
       "  --sklearn-color-unfitted-level-0: #fff5e6;\n",
       "  --sklearn-color-unfitted-level-1: #f6e4d2;\n",
       "  --sklearn-color-unfitted-level-2: #ffe0b3;\n",
       "  --sklearn-color-unfitted-level-3: chocolate;\n",
       "  /* Definition of color scheme for fitted estimators */\n",
       "  --sklearn-color-fitted-level-0: #f0f8ff;\n",
       "  --sklearn-color-fitted-level-1: #d4ebff;\n",
       "  --sklearn-color-fitted-level-2: #b3dbfd;\n",
       "  --sklearn-color-fitted-level-3: cornflowerblue;\n",
       "\n",
       "  /* Specific color for light theme */\n",
       "  --sklearn-color-text-on-default-background: var(--sg-text-color, var(--theme-code-foreground, var(--jp-content-font-color1, black)));\n",
       "  --sklearn-color-background: var(--sg-background-color, var(--theme-background, var(--jp-layout-color0, white)));\n",
       "  --sklearn-color-border-box: var(--sg-text-color, var(--theme-code-foreground, var(--jp-content-font-color1, black)));\n",
       "  --sklearn-color-icon: #696969;\n",
       "\n",
       "  @media (prefers-color-scheme: dark) {\n",
       "    /* Redefinition of color scheme for dark theme */\n",
       "    --sklearn-color-text-on-default-background: var(--sg-text-color, var(--theme-code-foreground, var(--jp-content-font-color1, white)));\n",
       "    --sklearn-color-background: var(--sg-background-color, var(--theme-background, var(--jp-layout-color0, #111)));\n",
       "    --sklearn-color-border-box: var(--sg-text-color, var(--theme-code-foreground, var(--jp-content-font-color1, white)));\n",
       "    --sklearn-color-icon: #878787;\n",
       "  }\n",
       "}\n",
       "\n",
       "#sk-container-id-2 {\n",
       "  color: var(--sklearn-color-text);\n",
       "}\n",
       "\n",
       "#sk-container-id-2 pre {\n",
       "  padding: 0;\n",
       "}\n",
       "\n",
       "#sk-container-id-2 input.sk-hidden--visually {\n",
       "  border: 0;\n",
       "  clip: rect(1px 1px 1px 1px);\n",
       "  clip: rect(1px, 1px, 1px, 1px);\n",
       "  height: 1px;\n",
       "  margin: -1px;\n",
       "  overflow: hidden;\n",
       "  padding: 0;\n",
       "  position: absolute;\n",
       "  width: 1px;\n",
       "}\n",
       "\n",
       "#sk-container-id-2 div.sk-dashed-wrapped {\n",
       "  border: 1px dashed var(--sklearn-color-line);\n",
       "  margin: 0 0.4em 0.5em 0.4em;\n",
       "  box-sizing: border-box;\n",
       "  padding-bottom: 0.4em;\n",
       "  background-color: var(--sklearn-color-background);\n",
       "}\n",
       "\n",
       "#sk-container-id-2 div.sk-container {\n",
       "  /* jupyter's `normalize.less` sets `[hidden] { display: none; }`\n",
       "     but bootstrap.min.css set `[hidden] { display: none !important; }`\n",
       "     so we also need the `!important` here to be able to override the\n",
       "     default hidden behavior on the sphinx rendered scikit-learn.org.\n",
       "     See: https://github.com/scikit-learn/scikit-learn/issues/21755 */\n",
       "  display: inline-block !important;\n",
       "  position: relative;\n",
       "}\n",
       "\n",
       "#sk-container-id-2 div.sk-text-repr-fallback {\n",
       "  display: none;\n",
       "}\n",
       "\n",
       "div.sk-parallel-item,\n",
       "div.sk-serial,\n",
       "div.sk-item {\n",
       "  /* draw centered vertical line to link estimators */\n",
       "  background-image: linear-gradient(var(--sklearn-color-text-on-default-background), var(--sklearn-color-text-on-default-background));\n",
       "  background-size: 2px 100%;\n",
       "  background-repeat: no-repeat;\n",
       "  background-position: center center;\n",
       "}\n",
       "\n",
       "/* Parallel-specific style estimator block */\n",
       "\n",
       "#sk-container-id-2 div.sk-parallel-item::after {\n",
       "  content: \"\";\n",
       "  width: 100%;\n",
       "  border-bottom: 2px solid var(--sklearn-color-text-on-default-background);\n",
       "  flex-grow: 1;\n",
       "}\n",
       "\n",
       "#sk-container-id-2 div.sk-parallel {\n",
       "  display: flex;\n",
       "  align-items: stretch;\n",
       "  justify-content: center;\n",
       "  background-color: var(--sklearn-color-background);\n",
       "  position: relative;\n",
       "}\n",
       "\n",
       "#sk-container-id-2 div.sk-parallel-item {\n",
       "  display: flex;\n",
       "  flex-direction: column;\n",
       "}\n",
       "\n",
       "#sk-container-id-2 div.sk-parallel-item:first-child::after {\n",
       "  align-self: flex-end;\n",
       "  width: 50%;\n",
       "}\n",
       "\n",
       "#sk-container-id-2 div.sk-parallel-item:last-child::after {\n",
       "  align-self: flex-start;\n",
       "  width: 50%;\n",
       "}\n",
       "\n",
       "#sk-container-id-2 div.sk-parallel-item:only-child::after {\n",
       "  width: 0;\n",
       "}\n",
       "\n",
       "/* Serial-specific style estimator block */\n",
       "\n",
       "#sk-container-id-2 div.sk-serial {\n",
       "  display: flex;\n",
       "  flex-direction: column;\n",
       "  align-items: center;\n",
       "  background-color: var(--sklearn-color-background);\n",
       "  padding-right: 1em;\n",
       "  padding-left: 1em;\n",
       "}\n",
       "\n",
       "\n",
       "/* Toggleable style: style used for estimator/Pipeline/ColumnTransformer box that is\n",
       "clickable and can be expanded/collapsed.\n",
       "- Pipeline and ColumnTransformer use this feature and define the default style\n",
       "- Estimators will overwrite some part of the style using the `sk-estimator` class\n",
       "*/\n",
       "\n",
       "/* Pipeline and ColumnTransformer style (default) */\n",
       "\n",
       "#sk-container-id-2 div.sk-toggleable {\n",
       "  /* Default theme specific background. It is overwritten whether we have a\n",
       "  specific estimator or a Pipeline/ColumnTransformer */\n",
       "  background-color: var(--sklearn-color-background);\n",
       "}\n",
       "\n",
       "/* Toggleable label */\n",
       "#sk-container-id-2 label.sk-toggleable__label {\n",
       "  cursor: pointer;\n",
       "  display: flex;\n",
       "  width: 100%;\n",
       "  margin-bottom: 0;\n",
       "  padding: 0.5em;\n",
       "  box-sizing: border-box;\n",
       "  text-align: center;\n",
       "  align-items: start;\n",
       "  justify-content: space-between;\n",
       "  gap: 0.5em;\n",
       "}\n",
       "\n",
       "#sk-container-id-2 label.sk-toggleable__label .caption {\n",
       "  font-size: 0.6rem;\n",
       "  font-weight: lighter;\n",
       "  color: var(--sklearn-color-text-muted);\n",
       "}\n",
       "\n",
       "#sk-container-id-2 label.sk-toggleable__label-arrow:before {\n",
       "  /* Arrow on the left of the label */\n",
       "  content: \"▸\";\n",
       "  float: left;\n",
       "  margin-right: 0.25em;\n",
       "  color: var(--sklearn-color-icon);\n",
       "}\n",
       "\n",
       "#sk-container-id-2 label.sk-toggleable__label-arrow:hover:before {\n",
       "  color: var(--sklearn-color-text);\n",
       "}\n",
       "\n",
       "/* Toggleable content - dropdown */\n",
       "\n",
       "#sk-container-id-2 div.sk-toggleable__content {\n",
       "  max-height: 0;\n",
       "  max-width: 0;\n",
       "  overflow: hidden;\n",
       "  text-align: left;\n",
       "  /* unfitted */\n",
       "  background-color: var(--sklearn-color-unfitted-level-0);\n",
       "}\n",
       "\n",
       "#sk-container-id-2 div.sk-toggleable__content.fitted {\n",
       "  /* fitted */\n",
       "  background-color: var(--sklearn-color-fitted-level-0);\n",
       "}\n",
       "\n",
       "#sk-container-id-2 div.sk-toggleable__content pre {\n",
       "  margin: 0.2em;\n",
       "  border-radius: 0.25em;\n",
       "  color: var(--sklearn-color-text);\n",
       "  /* unfitted */\n",
       "  background-color: var(--sklearn-color-unfitted-level-0);\n",
       "}\n",
       "\n",
       "#sk-container-id-2 div.sk-toggleable__content.fitted pre {\n",
       "  /* unfitted */\n",
       "  background-color: var(--sklearn-color-fitted-level-0);\n",
       "}\n",
       "\n",
       "#sk-container-id-2 input.sk-toggleable__control:checked~div.sk-toggleable__content {\n",
       "  /* Expand drop-down */\n",
       "  max-height: 200px;\n",
       "  max-width: 100%;\n",
       "  overflow: auto;\n",
       "}\n",
       "\n",
       "#sk-container-id-2 input.sk-toggleable__control:checked~label.sk-toggleable__label-arrow:before {\n",
       "  content: \"▾\";\n",
       "}\n",
       "\n",
       "/* Pipeline/ColumnTransformer-specific style */\n",
       "\n",
       "#sk-container-id-2 div.sk-label input.sk-toggleable__control:checked~label.sk-toggleable__label {\n",
       "  color: var(--sklearn-color-text);\n",
       "  background-color: var(--sklearn-color-unfitted-level-2);\n",
       "}\n",
       "\n",
       "#sk-container-id-2 div.sk-label.fitted input.sk-toggleable__control:checked~label.sk-toggleable__label {\n",
       "  background-color: var(--sklearn-color-fitted-level-2);\n",
       "}\n",
       "\n",
       "/* Estimator-specific style */\n",
       "\n",
       "/* Colorize estimator box */\n",
       "#sk-container-id-2 div.sk-estimator input.sk-toggleable__control:checked~label.sk-toggleable__label {\n",
       "  /* unfitted */\n",
       "  background-color: var(--sklearn-color-unfitted-level-2);\n",
       "}\n",
       "\n",
       "#sk-container-id-2 div.sk-estimator.fitted input.sk-toggleable__control:checked~label.sk-toggleable__label {\n",
       "  /* fitted */\n",
       "  background-color: var(--sklearn-color-fitted-level-2);\n",
       "}\n",
       "\n",
       "#sk-container-id-2 div.sk-label label.sk-toggleable__label,\n",
       "#sk-container-id-2 div.sk-label label {\n",
       "  /* The background is the default theme color */\n",
       "  color: var(--sklearn-color-text-on-default-background);\n",
       "}\n",
       "\n",
       "/* On hover, darken the color of the background */\n",
       "#sk-container-id-2 div.sk-label:hover label.sk-toggleable__label {\n",
       "  color: var(--sklearn-color-text);\n",
       "  background-color: var(--sklearn-color-unfitted-level-2);\n",
       "}\n",
       "\n",
       "/* Label box, darken color on hover, fitted */\n",
       "#sk-container-id-2 div.sk-label.fitted:hover label.sk-toggleable__label.fitted {\n",
       "  color: var(--sklearn-color-text);\n",
       "  background-color: var(--sklearn-color-fitted-level-2);\n",
       "}\n",
       "\n",
       "/* Estimator label */\n",
       "\n",
       "#sk-container-id-2 div.sk-label label {\n",
       "  font-family: monospace;\n",
       "  font-weight: bold;\n",
       "  display: inline-block;\n",
       "  line-height: 1.2em;\n",
       "}\n",
       "\n",
       "#sk-container-id-2 div.sk-label-container {\n",
       "  text-align: center;\n",
       "}\n",
       "\n",
       "/* Estimator-specific */\n",
       "#sk-container-id-2 div.sk-estimator {\n",
       "  font-family: monospace;\n",
       "  border: 1px dotted var(--sklearn-color-border-box);\n",
       "  border-radius: 0.25em;\n",
       "  box-sizing: border-box;\n",
       "  margin-bottom: 0.5em;\n",
       "  /* unfitted */\n",
       "  background-color: var(--sklearn-color-unfitted-level-0);\n",
       "}\n",
       "\n",
       "#sk-container-id-2 div.sk-estimator.fitted {\n",
       "  /* fitted */\n",
       "  background-color: var(--sklearn-color-fitted-level-0);\n",
       "}\n",
       "\n",
       "/* on hover */\n",
       "#sk-container-id-2 div.sk-estimator:hover {\n",
       "  /* unfitted */\n",
       "  background-color: var(--sklearn-color-unfitted-level-2);\n",
       "}\n",
       "\n",
       "#sk-container-id-2 div.sk-estimator.fitted:hover {\n",
       "  /* fitted */\n",
       "  background-color: var(--sklearn-color-fitted-level-2);\n",
       "}\n",
       "\n",
       "/* Specification for estimator info (e.g. \"i\" and \"?\") */\n",
       "\n",
       "/* Common style for \"i\" and \"?\" */\n",
       "\n",
       ".sk-estimator-doc-link,\n",
       "a:link.sk-estimator-doc-link,\n",
       "a:visited.sk-estimator-doc-link {\n",
       "  float: right;\n",
       "  font-size: smaller;\n",
       "  line-height: 1em;\n",
       "  font-family: monospace;\n",
       "  background-color: var(--sklearn-color-background);\n",
       "  border-radius: 1em;\n",
       "  height: 1em;\n",
       "  width: 1em;\n",
       "  text-decoration: none !important;\n",
       "  margin-left: 0.5em;\n",
       "  text-align: center;\n",
       "  /* unfitted */\n",
       "  border: var(--sklearn-color-unfitted-level-1) 1pt solid;\n",
       "  color: var(--sklearn-color-unfitted-level-1);\n",
       "}\n",
       "\n",
       ".sk-estimator-doc-link.fitted,\n",
       "a:link.sk-estimator-doc-link.fitted,\n",
       "a:visited.sk-estimator-doc-link.fitted {\n",
       "  /* fitted */\n",
       "  border: var(--sklearn-color-fitted-level-1) 1pt solid;\n",
       "  color: var(--sklearn-color-fitted-level-1);\n",
       "}\n",
       "\n",
       "/* On hover */\n",
       "div.sk-estimator:hover .sk-estimator-doc-link:hover,\n",
       ".sk-estimator-doc-link:hover,\n",
       "div.sk-label-container:hover .sk-estimator-doc-link:hover,\n",
       ".sk-estimator-doc-link:hover {\n",
       "  /* unfitted */\n",
       "  background-color: var(--sklearn-color-unfitted-level-3);\n",
       "  color: var(--sklearn-color-background);\n",
       "  text-decoration: none;\n",
       "}\n",
       "\n",
       "div.sk-estimator.fitted:hover .sk-estimator-doc-link.fitted:hover,\n",
       ".sk-estimator-doc-link.fitted:hover,\n",
       "div.sk-label-container:hover .sk-estimator-doc-link.fitted:hover,\n",
       ".sk-estimator-doc-link.fitted:hover {\n",
       "  /* fitted */\n",
       "  background-color: var(--sklearn-color-fitted-level-3);\n",
       "  color: var(--sklearn-color-background);\n",
       "  text-decoration: none;\n",
       "}\n",
       "\n",
       "/* Span, style for the box shown on hovering the info icon */\n",
       ".sk-estimator-doc-link span {\n",
       "  display: none;\n",
       "  z-index: 9999;\n",
       "  position: relative;\n",
       "  font-weight: normal;\n",
       "  right: .2ex;\n",
       "  padding: .5ex;\n",
       "  margin: .5ex;\n",
       "  width: min-content;\n",
       "  min-width: 20ex;\n",
       "  max-width: 50ex;\n",
       "  color: var(--sklearn-color-text);\n",
       "  box-shadow: 2pt 2pt 4pt #999;\n",
       "  /* unfitted */\n",
       "  background: var(--sklearn-color-unfitted-level-0);\n",
       "  border: .5pt solid var(--sklearn-color-unfitted-level-3);\n",
       "}\n",
       "\n",
       ".sk-estimator-doc-link.fitted span {\n",
       "  /* fitted */\n",
       "  background: var(--sklearn-color-fitted-level-0);\n",
       "  border: var(--sklearn-color-fitted-level-3);\n",
       "}\n",
       "\n",
       ".sk-estimator-doc-link:hover span {\n",
       "  display: block;\n",
       "}\n",
       "\n",
       "/* \"?\"-specific style due to the `<a>` HTML tag */\n",
       "\n",
       "#sk-container-id-2 a.estimator_doc_link {\n",
       "  float: right;\n",
       "  font-size: 1rem;\n",
       "  line-height: 1em;\n",
       "  font-family: monospace;\n",
       "  background-color: var(--sklearn-color-background);\n",
       "  border-radius: 1rem;\n",
       "  height: 1rem;\n",
       "  width: 1rem;\n",
       "  text-decoration: none;\n",
       "  /* unfitted */\n",
       "  color: var(--sklearn-color-unfitted-level-1);\n",
       "  border: var(--sklearn-color-unfitted-level-1) 1pt solid;\n",
       "}\n",
       "\n",
       "#sk-container-id-2 a.estimator_doc_link.fitted {\n",
       "  /* fitted */\n",
       "  border: var(--sklearn-color-fitted-level-1) 1pt solid;\n",
       "  color: var(--sklearn-color-fitted-level-1);\n",
       "}\n",
       "\n",
       "/* On hover */\n",
       "#sk-container-id-2 a.estimator_doc_link:hover {\n",
       "  /* unfitted */\n",
       "  background-color: var(--sklearn-color-unfitted-level-3);\n",
       "  color: var(--sklearn-color-background);\n",
       "  text-decoration: none;\n",
       "}\n",
       "\n",
       "#sk-container-id-2 a.estimator_doc_link.fitted:hover {\n",
       "  /* fitted */\n",
       "  background-color: var(--sklearn-color-fitted-level-3);\n",
       "}\n",
       "</style><div id=\"sk-container-id-2\" class=\"sk-top-container\"><div class=\"sk-text-repr-fallback\"><pre>Pipeline(steps=[(&#x27;preproc&#x27;,\n",
       "                 ColumnTransformer(transformers=[(&#x27;num&#x27;,\n",
       "                                                  Pipeline(steps=[(&#x27;impute&#x27;,\n",
       "                                                                   SimpleImputer(strategy=&#x27;median&#x27;)),\n",
       "                                                                  (&#x27;scale&#x27;,\n",
       "                                                                   StandardScaler())]),\n",
       "                                                  [&#x27;Vehicle_Count&#x27;,\n",
       "                                                   &#x27;Speed_Posted_max&#x27;]),\n",
       "                                                 (&#x27;cat&#x27;,\n",
       "                                                  Pipeline(steps=[(&#x27;impute&#x27;,\n",
       "                                                                   SimpleImputer(fill_value=&#x27;missing&#x27;,\n",
       "                                                                                 strategy=&#x27;constant&#x27;)),\n",
       "                                                                  (&#x27;onehot&#x27;,\n",
       "                                                                   OneHotEncoder(handle_unknown=&#x27;ignore&#x27;))]),\n",
       "                                                  [&#x27;Intersection_...\n",
       "                                                           max_cat_threshold=None,\n",
       "                                                           max_cat_to_onehot=None,\n",
       "                                                           max_delta_step=None,\n",
       "                                                           max_depth=3,\n",
       "                                                           max_leaves=None,\n",
       "                                                           min_child_weight=1,\n",
       "                                                           missing=nan,\n",
       "                                                           monotone_constraints=None,\n",
       "                                                           multi_strategy=None,\n",
       "                                                           n_estimators=100,\n",
       "                                                           n_jobs=None,\n",
       "                                                           num_parallel_tree=None, ...)),\n",
       "                                             (&#x27;ada&#x27;,\n",
       "                                              AdaBoostRegressor(learning_rate=0.1,\n",
       "                                                                random_state=42)),\n",
       "                                             (&#x27;lgb&#x27;,\n",
       "                                              LGBMRegressor(max_depth=3,\n",
       "                                                            random_state=42))],\n",
       "                                 n_jobs=-1))])</pre><b>In a Jupyter environment, please rerun this cell to show the HTML representation or trust the notebook. <br />On GitHub, the HTML representation is unable to render, please try loading this page with nbviewer.org.</b></div><div class=\"sk-container\" hidden><div class=\"sk-item sk-dashed-wrapped\"><div class=\"sk-label-container\"><div class=\"sk-label fitted sk-toggleable\"><input class=\"sk-toggleable__control sk-hidden--visually\" id=\"sk-estimator-id-10\" type=\"checkbox\" ><label for=\"sk-estimator-id-10\" class=\"sk-toggleable__label fitted sk-toggleable__label-arrow\"><div><div>Pipeline</div></div><div><a class=\"sk-estimator-doc-link fitted\" rel=\"noreferrer\" target=\"_blank\" href=\"https://scikit-learn.org/1.6/modules/generated/sklearn.pipeline.Pipeline.html\">?<span>Documentation for Pipeline</span></a><span class=\"sk-estimator-doc-link fitted\">i<span>Fitted</span></span></div></label><div class=\"sk-toggleable__content fitted\"><pre>Pipeline(steps=[(&#x27;preproc&#x27;,\n",
       "                 ColumnTransformer(transformers=[(&#x27;num&#x27;,\n",
       "                                                  Pipeline(steps=[(&#x27;impute&#x27;,\n",
       "                                                                   SimpleImputer(strategy=&#x27;median&#x27;)),\n",
       "                                                                  (&#x27;scale&#x27;,\n",
       "                                                                   StandardScaler())]),\n",
       "                                                  [&#x27;Vehicle_Count&#x27;,\n",
       "                                                   &#x27;Speed_Posted_max&#x27;]),\n",
       "                                                 (&#x27;cat&#x27;,\n",
       "                                                  Pipeline(steps=[(&#x27;impute&#x27;,\n",
       "                                                                   SimpleImputer(fill_value=&#x27;missing&#x27;,\n",
       "                                                                                 strategy=&#x27;constant&#x27;)),\n",
       "                                                                  (&#x27;onehot&#x27;,\n",
       "                                                                   OneHotEncoder(handle_unknown=&#x27;ignore&#x27;))]),\n",
       "                                                  [&#x27;Intersection_...\n",
       "                                                           max_cat_threshold=None,\n",
       "                                                           max_cat_to_onehot=None,\n",
       "                                                           max_delta_step=None,\n",
       "                                                           max_depth=3,\n",
       "                                                           max_leaves=None,\n",
       "                                                           min_child_weight=1,\n",
       "                                                           missing=nan,\n",
       "                                                           monotone_constraints=None,\n",
       "                                                           multi_strategy=None,\n",
       "                                                           n_estimators=100,\n",
       "                                                           n_jobs=None,\n",
       "                                                           num_parallel_tree=None, ...)),\n",
       "                                             (&#x27;ada&#x27;,\n",
       "                                              AdaBoostRegressor(learning_rate=0.1,\n",
       "                                                                random_state=42)),\n",
       "                                             (&#x27;lgb&#x27;,\n",
       "                                              LGBMRegressor(max_depth=3,\n",
       "                                                            random_state=42))],\n",
       "                                 n_jobs=-1))])</pre></div> </div></div><div class=\"sk-serial\"><div class=\"sk-item sk-dashed-wrapped\"><div class=\"sk-label-container\"><div class=\"sk-label fitted sk-toggleable\"><input class=\"sk-toggleable__control sk-hidden--visually\" id=\"sk-estimator-id-11\" type=\"checkbox\" ><label for=\"sk-estimator-id-11\" class=\"sk-toggleable__label fitted sk-toggleable__label-arrow\"><div><div>preproc: ColumnTransformer</div></div><div><a class=\"sk-estimator-doc-link fitted\" rel=\"noreferrer\" target=\"_blank\" href=\"https://scikit-learn.org/1.6/modules/generated/sklearn.compose.ColumnTransformer.html\">?<span>Documentation for preproc: ColumnTransformer</span></a></div></label><div class=\"sk-toggleable__content fitted\"><pre>ColumnTransformer(transformers=[(&#x27;num&#x27;,\n",
       "                                 Pipeline(steps=[(&#x27;impute&#x27;,\n",
       "                                                  SimpleImputer(strategy=&#x27;median&#x27;)),\n",
       "                                                 (&#x27;scale&#x27;, StandardScaler())]),\n",
       "                                 [&#x27;Vehicle_Count&#x27;, &#x27;Speed_Posted_max&#x27;]),\n",
       "                                (&#x27;cat&#x27;,\n",
       "                                 Pipeline(steps=[(&#x27;impute&#x27;,\n",
       "                                                  SimpleImputer(fill_value=&#x27;missing&#x27;,\n",
       "                                                                strategy=&#x27;constant&#x27;)),\n",
       "                                                 (&#x27;onehot&#x27;,\n",
       "                                                  OneHotEncoder(handle_unknown=&#x27;ignore&#x27;))]),\n",
       "                                 [&#x27;Intersection_Type&#x27;, &#x27;Area_Type&#x27;,\n",
       "                                  &#x27;Roadway_Alignment&#x27;, &#x27;Light_Condition&#x27;,\n",
       "                                  &#x27;Weather_Condition&#x27;,\n",
       "                                  &#x27;Roadway_Surface_Condition&#x27;,\n",
       "                                  &#x27;Roadway_Surface_Type&#x27;,\n",
       "                                  &#x27;Traffic_Control_Type&#x27;,\n",
       "                                  &#x27;Traffic_Control_Status&#x27;, &#x27;Collision_Type&#x27;,\n",
       "                                  &#x27;First_Harmful_Event&#x27;, &#x27;day_of_week&#x27;,\n",
       "                                  &#x27;time_of_day&#x27;, &#x27;Alcohol?&#x27;, &#x27;Unrestrained?&#x27;,\n",
       "                                  &#x27;Distracted?&#x27;, &#x27;Drowsy?&#x27;, &#x27;Drug_Related?&#x27;,\n",
       "                                  &#x27;Speed?&#x27;])])</pre></div> </div></div><div class=\"sk-parallel\"><div class=\"sk-parallel-item\"><div class=\"sk-item\"><div class=\"sk-label-container\"><div class=\"sk-label fitted sk-toggleable\"><input class=\"sk-toggleable__control sk-hidden--visually\" id=\"sk-estimator-id-12\" type=\"checkbox\" ><label for=\"sk-estimator-id-12\" class=\"sk-toggleable__label fitted sk-toggleable__label-arrow\"><div><div>num</div></div></label><div class=\"sk-toggleable__content fitted\"><pre>[&#x27;Vehicle_Count&#x27;, &#x27;Speed_Posted_max&#x27;]</pre></div> </div></div><div class=\"sk-serial\"><div class=\"sk-item\"><div class=\"sk-serial\"><div class=\"sk-item\"><div class=\"sk-estimator fitted sk-toggleable\"><input class=\"sk-toggleable__control sk-hidden--visually\" id=\"sk-estimator-id-13\" type=\"checkbox\" ><label for=\"sk-estimator-id-13\" class=\"sk-toggleable__label fitted sk-toggleable__label-arrow\"><div><div>SimpleImputer</div></div><div><a class=\"sk-estimator-doc-link fitted\" rel=\"noreferrer\" target=\"_blank\" href=\"https://scikit-learn.org/1.6/modules/generated/sklearn.impute.SimpleImputer.html\">?<span>Documentation for SimpleImputer</span></a></div></label><div class=\"sk-toggleable__content fitted\"><pre>SimpleImputer(strategy=&#x27;median&#x27;)</pre></div> </div></div><div class=\"sk-item\"><div class=\"sk-estimator fitted sk-toggleable\"><input class=\"sk-toggleable__control sk-hidden--visually\" id=\"sk-estimator-id-14\" type=\"checkbox\" ><label for=\"sk-estimator-id-14\" class=\"sk-toggleable__label fitted sk-toggleable__label-arrow\"><div><div>StandardScaler</div></div><div><a class=\"sk-estimator-doc-link fitted\" rel=\"noreferrer\" target=\"_blank\" href=\"https://scikit-learn.org/1.6/modules/generated/sklearn.preprocessing.StandardScaler.html\">?<span>Documentation for StandardScaler</span></a></div></label><div class=\"sk-toggleable__content fitted\"><pre>StandardScaler()</pre></div> </div></div></div></div></div></div></div><div class=\"sk-parallel-item\"><div class=\"sk-item\"><div class=\"sk-label-container\"><div class=\"sk-label fitted sk-toggleable\"><input class=\"sk-toggleable__control sk-hidden--visually\" id=\"sk-estimator-id-15\" type=\"checkbox\" ><label for=\"sk-estimator-id-15\" class=\"sk-toggleable__label fitted sk-toggleable__label-arrow\"><div><div>cat</div></div></label><div class=\"sk-toggleable__content fitted\"><pre>[&#x27;Intersection_Type&#x27;, &#x27;Area_Type&#x27;, &#x27;Roadway_Alignment&#x27;, &#x27;Light_Condition&#x27;, &#x27;Weather_Condition&#x27;, &#x27;Roadway_Surface_Condition&#x27;, &#x27;Roadway_Surface_Type&#x27;, &#x27;Traffic_Control_Type&#x27;, &#x27;Traffic_Control_Status&#x27;, &#x27;Collision_Type&#x27;, &#x27;First_Harmful_Event&#x27;, &#x27;day_of_week&#x27;, &#x27;time_of_day&#x27;, &#x27;Alcohol?&#x27;, &#x27;Unrestrained?&#x27;, &#x27;Distracted?&#x27;, &#x27;Drowsy?&#x27;, &#x27;Drug_Related?&#x27;, &#x27;Speed?&#x27;]</pre></div> </div></div><div class=\"sk-serial\"><div class=\"sk-item\"><div class=\"sk-serial\"><div class=\"sk-item\"><div class=\"sk-estimator fitted sk-toggleable\"><input class=\"sk-toggleable__control sk-hidden--visually\" id=\"sk-estimator-id-16\" type=\"checkbox\" ><label for=\"sk-estimator-id-16\" class=\"sk-toggleable__label fitted sk-toggleable__label-arrow\"><div><div>SimpleImputer</div></div><div><a class=\"sk-estimator-doc-link fitted\" rel=\"noreferrer\" target=\"_blank\" href=\"https://scikit-learn.org/1.6/modules/generated/sklearn.impute.SimpleImputer.html\">?<span>Documentation for SimpleImputer</span></a></div></label><div class=\"sk-toggleable__content fitted\"><pre>SimpleImputer(fill_value=&#x27;missing&#x27;, strategy=&#x27;constant&#x27;)</pre></div> </div></div><div class=\"sk-item\"><div class=\"sk-estimator fitted sk-toggleable\"><input class=\"sk-toggleable__control sk-hidden--visually\" id=\"sk-estimator-id-17\" type=\"checkbox\" ><label for=\"sk-estimator-id-17\" class=\"sk-toggleable__label fitted sk-toggleable__label-arrow\"><div><div>OneHotEncoder</div></div><div><a class=\"sk-estimator-doc-link fitted\" rel=\"noreferrer\" target=\"_blank\" href=\"https://scikit-learn.org/1.6/modules/generated/sklearn.preprocessing.OneHotEncoder.html\">?<span>Documentation for OneHotEncoder</span></a></div></label><div class=\"sk-toggleable__content fitted\"><pre>OneHotEncoder(handle_unknown=&#x27;ignore&#x27;)</pre></div> </div></div></div></div></div></div></div></div></div><div class=\"sk-item sk-dashed-wrapped\"><div class=\"sk-label-container\"><div class=\"sk-label fitted sk-toggleable\"><input class=\"sk-toggleable__control sk-hidden--visually\" id=\"sk-estimator-id-18\" type=\"checkbox\" ><label for=\"sk-estimator-id-18\" class=\"sk-toggleable__label fitted sk-toggleable__label-arrow\"><div><div>clf: VotingRegressor</div></div><div><a class=\"sk-estimator-doc-link fitted\" rel=\"noreferrer\" target=\"_blank\" href=\"https://scikit-learn.org/1.6/modules/generated/sklearn.ensemble.VotingRegressor.html\">?<span>Documentation for clf: VotingRegressor</span></a></div></label><div class=\"sk-toggleable__content fitted\"><pre>VotingRegressor(estimators=[(&#x27;rf&#x27;,\n",
       "                             RandomForestRegressor(max_depth=10,\n",
       "                                                   random_state=42)),\n",
       "                            (&#x27;xgb&#x27;,\n",
       "                             XGBRegressor(base_score=None, booster=None,\n",
       "                                          callbacks=None,\n",
       "                                          colsample_bylevel=None,\n",
       "                                          colsample_bynode=None,\n",
       "                                          colsample_bytree=None, device=None,\n",
       "                                          early_stopping_rounds=None,\n",
       "                                          enable_categorical=False,\n",
       "                                          eval_metric=None, feature_types=None,\n",
       "                                          feature_weights=None, gamma=None,...\n",
       "                                          max_cat_threshold=None,\n",
       "                                          max_cat_to_onehot=None,\n",
       "                                          max_delta_step=None, max_depth=3,\n",
       "                                          max_leaves=None, min_child_weight=1,\n",
       "                                          missing=nan,\n",
       "                                          monotone_constraints=None,\n",
       "                                          multi_strategy=None, n_estimators=100,\n",
       "                                          n_jobs=None, num_parallel_tree=None, ...)),\n",
       "                            (&#x27;ada&#x27;,\n",
       "                             AdaBoostRegressor(learning_rate=0.1,\n",
       "                                               random_state=42)),\n",
       "                            (&#x27;lgb&#x27;,\n",
       "                             LGBMRegressor(max_depth=3, random_state=42))],\n",
       "                n_jobs=-1)</pre></div> </div></div><div class=\"sk-parallel\"><div class=\"sk-parallel-item\"><div class=\"sk-item\"><div class=\"sk-label-container\"><div class=\"sk-label fitted sk-toggleable\"><label>rf</label></div></div><div class=\"sk-serial\"><div class=\"sk-item\"><div class=\"sk-estimator fitted sk-toggleable\"><input class=\"sk-toggleable__control sk-hidden--visually\" id=\"sk-estimator-id-19\" type=\"checkbox\" ><label for=\"sk-estimator-id-19\" class=\"sk-toggleable__label fitted sk-toggleable__label-arrow\"><div><div>RandomForestRegressor</div></div><div><a class=\"sk-estimator-doc-link fitted\" rel=\"noreferrer\" target=\"_blank\" href=\"https://scikit-learn.org/1.6/modules/generated/sklearn.ensemble.RandomForestRegressor.html\">?<span>Documentation for RandomForestRegressor</span></a></div></label><div class=\"sk-toggleable__content fitted\"><pre>RandomForestRegressor(max_depth=10, random_state=42)</pre></div> </div></div></div></div></div><div class=\"sk-parallel-item\"><div class=\"sk-item\"><div class=\"sk-label-container\"><div class=\"sk-label fitted sk-toggleable\"><label>xgb</label></div></div><div class=\"sk-serial\"><div class=\"sk-item\"><div class=\"sk-estimator fitted sk-toggleable\"><input class=\"sk-toggleable__control sk-hidden--visually\" id=\"sk-estimator-id-20\" type=\"checkbox\" ><label for=\"sk-estimator-id-20\" class=\"sk-toggleable__label fitted sk-toggleable__label-arrow\"><div><div>XGBRegressor</div></div><div><a class=\"sk-estimator-doc-link fitted\" rel=\"noreferrer\" target=\"_blank\" href=\"https://xgboost.readthedocs.io/en/release_3.0.0/python/python_api.html#xgboost.XGBRegressor\">?<span>Documentation for XGBRegressor</span></a></div></label><div class=\"sk-toggleable__content fitted\"><pre>XGBRegressor(base_score=None, booster=None, callbacks=None,\n",
       "             colsample_bylevel=None, colsample_bynode=None,\n",
       "             colsample_bytree=None, device=None, early_stopping_rounds=None,\n",
       "             enable_categorical=False, eval_metric=None, feature_types=None,\n",
       "             feature_weights=None, gamma=None, grow_policy=None,\n",
       "             importance_type=None, interaction_constraints=None,\n",
       "             learning_rate=0.1, max_bin=None, max_cat_threshold=None,\n",
       "             max_cat_to_onehot=None, max_delta_step=None, max_depth=3,\n",
       "             max_leaves=None, min_child_weight=1, missing=nan,\n",
       "             monotone_constraints=None, multi_strategy=None, n_estimators=100,\n",
       "             n_jobs=None, num_parallel_tree=None, ...)</pre></div> </div></div></div></div></div><div class=\"sk-parallel-item\"><div class=\"sk-item\"><div class=\"sk-label-container\"><div class=\"sk-label fitted sk-toggleable\"><label>ada</label></div></div><div class=\"sk-serial\"><div class=\"sk-item\"><div class=\"sk-estimator fitted sk-toggleable\"><input class=\"sk-toggleable__control sk-hidden--visually\" id=\"sk-estimator-id-21\" type=\"checkbox\" ><label for=\"sk-estimator-id-21\" class=\"sk-toggleable__label fitted sk-toggleable__label-arrow\"><div><div>AdaBoostRegressor</div></div><div><a class=\"sk-estimator-doc-link fitted\" rel=\"noreferrer\" target=\"_blank\" href=\"https://scikit-learn.org/1.6/modules/generated/sklearn.ensemble.AdaBoostRegressor.html\">?<span>Documentation for AdaBoostRegressor</span></a></div></label><div class=\"sk-toggleable__content fitted\"><pre>AdaBoostRegressor(learning_rate=0.1, random_state=42)</pre></div> </div></div></div></div></div><div class=\"sk-parallel-item\"><div class=\"sk-item\"><div class=\"sk-label-container\"><div class=\"sk-label fitted sk-toggleable\"><label>lgb</label></div></div><div class=\"sk-serial\"><div class=\"sk-item\"><div class=\"sk-estimator fitted sk-toggleable\"><input class=\"sk-toggleable__control sk-hidden--visually\" id=\"sk-estimator-id-22\" type=\"checkbox\" ><label for=\"sk-estimator-id-22\" class=\"sk-toggleable__label fitted sk-toggleable__label-arrow\"><div><div>LGBMRegressor</div></div></label><div class=\"sk-toggleable__content fitted\"><pre>LGBMRegressor(max_depth=3, random_state=42)</pre></div> </div></div></div></div></div></div></div></div></div></div></div>"
      ],
      "text/plain": [
       "Pipeline(steps=[('preproc',\n",
       "                 ColumnTransformer(transformers=[('num',\n",
       "                                                  Pipeline(steps=[('impute',\n",
       "                                                                   SimpleImputer(strategy='median')),\n",
       "                                                                  ('scale',\n",
       "                                                                   StandardScaler())]),\n",
       "                                                  ['Vehicle_Count',\n",
       "                                                   'Speed_Posted_max']),\n",
       "                                                 ('cat',\n",
       "                                                  Pipeline(steps=[('impute',\n",
       "                                                                   SimpleImputer(fill_value='missing',\n",
       "                                                                                 strategy='constant')),\n",
       "                                                                  ('onehot',\n",
       "                                                                   OneHotEncoder(handle_unknown='ignore'))]),\n",
       "                                                  ['Intersection_...\n",
       "                                                           max_cat_threshold=None,\n",
       "                                                           max_cat_to_onehot=None,\n",
       "                                                           max_delta_step=None,\n",
       "                                                           max_depth=3,\n",
       "                                                           max_leaves=None,\n",
       "                                                           min_child_weight=1,\n",
       "                                                           missing=nan,\n",
       "                                                           monotone_constraints=None,\n",
       "                                                           multi_strategy=None,\n",
       "                                                           n_estimators=100,\n",
       "                                                           n_jobs=None,\n",
       "                                                           num_parallel_tree=None, ...)),\n",
       "                                             ('ada',\n",
       "                                              AdaBoostRegressor(learning_rate=0.1,\n",
       "                                                                random_state=42)),\n",
       "                                             ('lgb',\n",
       "                                              LGBMRegressor(max_depth=3,\n",
       "                                                            random_state=42))],\n",
       "                                 n_jobs=-1))])"
      ]
     },
     "execution_count": 37,
     "metadata": {},
     "output_type": "execute_result"
    }
   ],
   "source": [
    "model.fit(X_train, y_train)"
   ]
  },
  {
   "cell_type": "code",
   "execution_count": 38,
   "id": "9ad3ae7d-28ca-45eb-9d8b-8a4627c2e5fb",
   "metadata": {},
   "outputs": [
    {
     "name": "stderr",
     "output_type": "stream",
     "text": [
      "/home/svj4hk/.local/lib/python3.11/site-packages/sklearn/utils/validation.py:2739: UserWarning: X does not have valid feature names, but LGBMRegressor was fitted with feature names\n",
      "  warnings.warn(\n"
     ]
    }
   ],
   "source": [
    "y_pred = model.predict(X_test)"
   ]
  },
  {
   "cell_type": "code",
   "execution_count": 39,
   "id": "f266aa6b-d79e-4f31-a439-a6e78d25b1e9",
   "metadata": {},
   "outputs": [
    {
     "name": "stdout",
     "output_type": "stream",
     "text": [
      "RMSE: 22.5510\n",
      "R² Score: 0.1447\n"
     ]
    }
   ],
   "source": [
    "# evaluate\n",
    "mse = mean_squared_error(y_test, y_pred)\n",
    "rmse = np.sqrt(mse)\n",
    "r2 = r2_score(y_test, y_pred)\n",
    "\n",
    "print(f\"RMSE: {rmse:.4f}\")\n",
    "print(f\"R² Score: {r2:.4f}\")"
   ]
  },
  {
   "cell_type": "code",
   "execution_count": null,
   "id": "675ad3a1-ed52-4d1b-a998-892e60488ee0",
   "metadata": {},
   "outputs": [],
   "source": []
  }
 ],
 "metadata": {
  "kernelspec": {
   "display_name": "Python 3 (ipykernel)",
   "language": "python",
   "name": "python3"
  },
  "language_info": {
   "codemirror_mode": {
    "name": "ipython",
    "version": 3
   },
   "file_extension": ".py",
   "mimetype": "text/x-python",
   "name": "python",
   "nbconvert_exporter": "python",
   "pygments_lexer": "ipython3",
   "version": "3.11.4"
  }
 },
 "nbformat": 4,
 "nbformat_minor": 5
}
