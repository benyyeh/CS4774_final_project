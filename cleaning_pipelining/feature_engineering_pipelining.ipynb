{
 "cells": [
  {
   "cell_type": "code",
   "execution_count": null,
   "metadata": {
    "colab": {
     "base_uri": "https://localhost:8080/"
    },
    "executionInfo": {
     "elapsed": 27164,
     "status": "ok",
     "timestamp": 1745868780055,
     "user": {
      "displayName": "Aiden Rocha",
      "userId": "03798662039225755281"
     },
     "user_tz": 240
    },
    "id": "5osQW3_5cWSE",
    "outputId": "41b82881-21ba-44c0-f3dc-10eebb856a43"
   },
   "outputs": [
    {
     "name": "stdout",
     "output_type": "stream",
     "text": [
      "Requirement already satisfied: imbalanced-learn in /usr/local/lib/python3.11/dist-packages (0.13.0)\n",
      "Requirement already satisfied: xgboost in /usr/local/lib/python3.11/dist-packages (2.1.4)\n",
      "Requirement already satisfied: lightgbm in /usr/local/lib/python3.11/dist-packages (4.5.0)\n",
      "Collecting catboost\n",
      "  Downloading catboost-1.2.8-cp311-cp311-manylinux2014_x86_64.whl.metadata (1.2 kB)\n",
      "Requirement already satisfied: numpy<3,>=1.24.3 in /usr/local/lib/python3.11/dist-packages (from imbalanced-learn) (2.0.2)\n",
      "Requirement already satisfied: scipy<2,>=1.10.1 in /usr/local/lib/python3.11/dist-packages (from imbalanced-learn) (1.15.2)\n",
      "Requirement already satisfied: scikit-learn<2,>=1.3.2 in /usr/local/lib/python3.11/dist-packages (from imbalanced-learn) (1.6.1)\n",
      "Requirement already satisfied: sklearn-compat<1,>=0.1 in /usr/local/lib/python3.11/dist-packages (from imbalanced-learn) (0.1.3)\n",
      "Requirement already satisfied: joblib<2,>=1.1.1 in /usr/local/lib/python3.11/dist-packages (from imbalanced-learn) (1.4.2)\n",
      "Requirement already satisfied: threadpoolctl<4,>=2.0.0 in /usr/local/lib/python3.11/dist-packages (from imbalanced-learn) (3.6.0)\n",
      "Requirement already satisfied: nvidia-nccl-cu12 in /usr/local/lib/python3.11/dist-packages (from xgboost) (2.21.5)\n",
      "Requirement already satisfied: graphviz in /usr/local/lib/python3.11/dist-packages (from catboost) (0.20.3)\n",
      "Requirement already satisfied: matplotlib in /usr/local/lib/python3.11/dist-packages (from catboost) (3.10.0)\n",
      "Requirement already satisfied: pandas>=0.24 in /usr/local/lib/python3.11/dist-packages (from catboost) (2.2.2)\n",
      "Requirement already satisfied: plotly in /usr/local/lib/python3.11/dist-packages (from catboost) (5.24.1)\n",
      "Requirement already satisfied: six in /usr/local/lib/python3.11/dist-packages (from catboost) (1.17.0)\n",
      "Requirement already satisfied: python-dateutil>=2.8.2 in /usr/local/lib/python3.11/dist-packages (from pandas>=0.24->catboost) (2.9.0.post0)\n",
      "Requirement already satisfied: pytz>=2020.1 in /usr/local/lib/python3.11/dist-packages (from pandas>=0.24->catboost) (2025.2)\n",
      "Requirement already satisfied: tzdata>=2022.7 in /usr/local/lib/python3.11/dist-packages (from pandas>=0.24->catboost) (2025.2)\n",
      "Requirement already satisfied: contourpy>=1.0.1 in /usr/local/lib/python3.11/dist-packages (from matplotlib->catboost) (1.3.2)\n",
      "Requirement already satisfied: cycler>=0.10 in /usr/local/lib/python3.11/dist-packages (from matplotlib->catboost) (0.12.1)\n",
      "Requirement already satisfied: fonttools>=4.22.0 in /usr/local/lib/python3.11/dist-packages (from matplotlib->catboost) (4.57.0)\n",
      "Requirement already satisfied: kiwisolver>=1.3.1 in /usr/local/lib/python3.11/dist-packages (from matplotlib->catboost) (1.4.8)\n",
      "Requirement already satisfied: packaging>=20.0 in /usr/local/lib/python3.11/dist-packages (from matplotlib->catboost) (24.2)\n",
      "Requirement already satisfied: pillow>=8 in /usr/local/lib/python3.11/dist-packages (from matplotlib->catboost) (11.2.1)\n",
      "Requirement already satisfied: pyparsing>=2.3.1 in /usr/local/lib/python3.11/dist-packages (from matplotlib->catboost) (3.2.3)\n",
      "Requirement already satisfied: tenacity>=6.2.0 in /usr/local/lib/python3.11/dist-packages (from plotly->catboost) (9.1.2)\n",
      "Downloading catboost-1.2.8-cp311-cp311-manylinux2014_x86_64.whl (99.2 MB)\n",
      "\u001b[2K   \u001b[90m━━━━━━━━━━━━━━━━━━━━━━━━━━━━━━━━━━━━━━━━\u001b[0m \u001b[32m99.2/99.2 MB\u001b[0m \u001b[31m5.7 MB/s\u001b[0m eta \u001b[36m0:00:00\u001b[0m\n",
      "\u001b[?25hInstalling collected packages: catboost\n",
      "Successfully installed catboost-1.2.8\n"
     ]
    }
   ],
   "source": [
    "!pip install imbalanced-learn xgboost lightgbm catboost"
   ]
  },
  {
   "cell_type": "code",
   "execution_count": 2,
   "metadata": {
    "executionInfo": {
     "elapsed": 373,
     "status": "ok",
     "timestamp": 1745868800014,
     "user": {
      "displayName": "Aiden Rocha",
      "userId": "03798662039225755281"
     },
     "user_tz": 240
    },
    "id": "ABsj7A2fb4TY"
   },
   "outputs": [],
   "source": [
    "import re\n",
    "import numpy as np\n",
    "import pandas as pd"
   ]
  },
  {
   "cell_type": "code",
   "execution_count": 3,
   "metadata": {
    "executionInfo": {
     "elapsed": 7763,
     "status": "ok",
     "timestamp": 1745868810078,
     "user": {
      "displayName": "Aiden Rocha",
      "userId": "03798662039225755281"
     },
     "user_tz": 240
    },
    "id": "getEZT57cIdH"
   },
   "outputs": [],
   "source": [
    "from sklearn.model_selection import train_test_split\n",
    "from sklearn.preprocessing import LabelEncoder\n",
    "from sklearn.compose import ColumnTransformer\n",
    "from sklearn.pipeline import Pipeline\n",
    "from sklearn.impute import SimpleImputer\n",
    "from sklearn.preprocessing import StandardScaler, OneHotEncoder\n",
    "\n",
    "from imblearn.over_sampling import SMOTE\n",
    "from imblearn.pipeline import Pipeline as ImbPipeline\n",
    "\n",
    "from sklearn.ensemble import RandomForestClassifier, AdaBoostClassifier, VotingClassifier\n",
    "import xgboost as xgb\n",
    "import lightgbm as lgb\n",
    "from catboost import CatBoostClassifier\n",
    "\n",
    "from sklearn.metrics import classification_report, accuracy_score, roc_auc_score"
   ]
  },
  {
   "cell_type": "code",
   "execution_count": 4,
   "metadata": {
    "executionInfo": {
     "elapsed": 3617,
     "status": "ok",
     "timestamp": 1745868942008,
     "user": {
      "displayName": "Aiden Rocha",
      "userId": "03798662039225755281"
     },
     "user_tz": 240
    },
    "id": "u6oMWetecbPp"
   },
   "outputs": [],
   "source": [
    "df = pd.read_csv(\"crash_data.csv\", low_memory=False)"
   ]
  },
  {
   "cell_type": "code",
   "execution_count": 5,
   "metadata": {
    "executionInfo": {
     "elapsed": 27,
     "status": "ok",
     "timestamp": 1745868945335,
     "user": {
      "displayName": "Aiden Rocha",
      "userId": "03798662039225755281"
     },
     "user_tz": 240
    },
    "id": "1yjW_2YJcpWy"
   },
   "outputs": [],
   "source": [
    "keep_cols = [\n",
    "    'Crash_Date','Crash_Military_Time','Intersection_Type','Area_Type',\n",
    "    'Roadway_Alignment','Light_Condition','Weather_Condition',\n",
    "    'Roadway_Surface_Condition','Roadway_Surface_Type',\n",
    "    'Traffic_Control_Type','Traffic_Control_Status','Collision_Type',\n",
    "    'Speed_Posted','Vehicle_Count','First_Harmful_Event','Crash_Severity'\n",
    "]\n",
    "df = df[keep_cols].copy()"
   ]
  },
  {
   "cell_type": "code",
   "execution_count": null,
   "metadata": {
    "executionInfo": {
     "elapsed": 69,
     "status": "ok",
     "timestamp": 1745868947862,
     "user": {
      "displayName": "Aiden Rocha",
      "userId": "03798662039225755281"
     },
     "user_tz": 240
    },
    "id": "ON1dKKzAdwtu"
   },
   "outputs": [],
   "source": [
    "df['Crash_Date'] = pd.to_datetime(df['Crash_Date'])\n",
    "df['day_of_week'] = df['Crash_Date'].dt.dcay_name()\n"
   ]
  },
  {
   "cell_type": "code",
   "execution_count": 7,
   "metadata": {
    "executionInfo": {
     "elapsed": 89,
     "status": "ok",
     "timestamp": 1745868950096,
     "user": {
      "displayName": "Aiden Rocha",
      "userId": "03798662039225755281"
     },
     "user_tz": 240
    },
    "id": "N4l85WuReF6S"
   },
   "outputs": [],
   "source": [
    "def extract_hour(t):\n",
    "    s = str(int(t)).zfill(4)\n",
    "    return int(s[:2])\n",
    "df['hour_of_day'] = df['Crash_Military_Time'].apply(extract_hour)\n",
    "\n",
    "bins = [0, 6, 12, 18, 24]\n",
    "labels = ['Night','Morning','Afternoon','Evening']\n",
    "df['time_of_day'] = pd.cut(df['hour_of_day'], bins=bins, labels=labels, right=False)\n"
   ]
  },
  {
   "cell_type": "code",
   "execution_count": 8,
   "metadata": {
    "executionInfo": {
     "elapsed": 251,
     "status": "ok",
     "timestamp": 1745868952018,
     "user": {
      "displayName": "Aiden Rocha",
      "userId": "03798662039225755281"
     },
     "user_tz": 240
    },
    "id": "YuJpqtZBeJAX"
   },
   "outputs": [],
   "source": [
    "def parse_max_speed(s):\n",
    "    if pd.isna(s):\n",
    "        return np.nan\n",
    "    nums = [int(x) for x in re.findall(r'\\d+', s)]\n",
    "    return max(nums) if nums else np.nan\n",
    "\n",
    "df['Speed_Posted_max'] = df['Speed_Posted'].apply(parse_max_speed)\n"
   ]
  },
  {
   "cell_type": "code",
   "execution_count": 9,
   "metadata": {
    "executionInfo": {
     "elapsed": 4,
     "status": "ok",
     "timestamp": 1745868953341,
     "user": {
      "displayName": "Aiden Rocha",
      "userId": "03798662039225755281"
     },
     "user_tz": 240
    },
    "id": "aiRtU9DCeJmG"
   },
   "outputs": [],
   "source": [
    "df = df.drop(columns=['Crash_Date','Crash_Military_Time','Speed_Posted','hour_of_day'])"
   ]
  },
  {
   "cell_type": "code",
   "execution_count": 10,
   "metadata": {
    "executionInfo": {
     "elapsed": 7,
     "status": "ok",
     "timestamp": 1745868954920,
     "user": {
      "displayName": "Aiden Rocha",
      "userId": "03798662039225755281"
     },
     "user_tz": 240
    },
    "id": "MwbN6kk_eM9x"
   },
   "outputs": [],
   "source": [
    "X = df.drop(columns=['Crash_Severity'])\n",
    "y = df['Crash_Severity']"
   ]
  },
  {
   "cell_type": "code",
   "execution_count": 25,
   "metadata": {
    "colab": {
     "base_uri": "https://localhost:8080/"
    },
    "executionInfo": {
     "elapsed": 32,
     "status": "ok",
     "timestamp": 1745869203818,
     "user": {
      "displayName": "Aiden Rocha",
      "userId": "03798662039225755281"
     },
     "user_tz": 240
    },
    "id": "V0ju1U6EeS84",
    "outputId": "7f03d421-f81b-47ea-ac01-82558cd04786"
   },
   "outputs": [
    {
     "name": "stdout",
     "output_type": "stream",
     "text": [
      "[4 4 1 ... 4 4 5]\n"
     ]
    }
   ],
   "source": [
    "le = LabelEncoder()\n",
    "y_enc = le.fit_transform(y)\n",
    "\n",
    "print(y_enc)"
   ]
  },
  {
   "cell_type": "code",
   "execution_count": 26,
   "metadata": {
    "executionInfo": {
     "elapsed": 25,
     "status": "ok",
     "timestamp": 1745869254848,
     "user": {
      "displayName": "Aiden Rocha",
      "userId": "03798662039225755281"
     },
     "user_tz": 240
    },
    "id": "G4gSeiGdeV7r"
   },
   "outputs": [],
   "source": [
    "X_train, X_test, y_train, y_test = train_test_split(\n",
    "    X, y_enc,\n",
    "    test_size=0.30,\n",
    "    # stratify=y_enc,\n",
    "    random_state=42\n",
    ")"
   ]
  },
  {
   "cell_type": "code",
   "execution_count": 21,
   "metadata": {
    "executionInfo": {
     "elapsed": 8,
     "status": "ok",
     "timestamp": 1745869147052,
     "user": {
      "displayName": "Aiden Rocha",
      "userId": "03798662039225755281"
     },
     "user_tz": 240
    },
    "id": "4q-JeLFoea_n"
   },
   "outputs": [],
   "source": [
    "numeric_feats = ['Vehicle_Count','Speed_Posted_max']\n",
    "numeric_pipe = Pipeline([\n",
    "    ('impute', SimpleImputer(strategy='median')),\n",
    "    ('scale', StandardScaler())\n",
    "])\n",
    "\n",
    "categorical_feats = [\n",
    "    'Intersection_Type','Area_Type','Roadway_Alignment',\n",
    "    'Light_Condition','Weather_Condition',\n",
    "    'Roadway_Surface_Condition','Roadway_Surface_Type',\n",
    "    'Traffic_Control_Type','Traffic_Control_Status',\n",
    "    'Collision_Type','First_Harmful_Event',\n",
    "    'day_of_week','time_of_day'\n",
    "]\n",
    "categorical_pipe = Pipeline([\n",
    "    ('impute', SimpleImputer(strategy='constant', fill_value='missing')),\n",
    "    ('onehot', OneHotEncoder(handle_unknown='ignore'))\n",
    "])\n",
    "\n",
    "preprocessor = ColumnTransformer([\n",
    "    ('num', numeric_pipe, numeric_feats),\n",
    "    ('cat', categorical_pipe, categorical_feats)\n",
    "])\n"
   ]
  }
 ],
 "metadata": {
  "colab": {
   "provenance": []
  },
  "kernelspec": {
   "display_name": "Python 3",
   "name": "python3"
  },
  "language_info": {
   "name": "python"
  }
 },
 "nbformat": 4,
 "nbformat_minor": 0
}
